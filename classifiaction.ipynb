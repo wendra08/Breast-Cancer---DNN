{
 "cells": [
  {
   "cell_type": "code",
   "execution_count": 36,
   "metadata": {},
   "outputs": [],
   "source": [
    "import pandas as pd\n",
    "import tensorflow as tf\n",
    "import numpy as np\n",
    "import matplotlib.pyplot as plt\n",
    "from sklearn.model_selection import train_test_split\n",
    "from sklearn.preprocessing import StandardScaler\n",
    "from keras.utils import to_categorical"
   ]
  },
  {
   "cell_type": "code",
   "execution_count": 37,
   "metadata": {},
   "outputs": [],
   "source": [
    "df = pd.read_csv(\"breast-cancer.csv.xls\")"
   ]
  },
  {
   "cell_type": "code",
   "execution_count": 38,
   "metadata": {},
   "outputs": [
    {
     "data": {
      "text/html": [
       "<div>\n",
       "<style scoped>\n",
       "    .dataframe tbody tr th:only-of-type {\n",
       "        vertical-align: middle;\n",
       "    }\n",
       "\n",
       "    .dataframe tbody tr th {\n",
       "        vertical-align: top;\n",
       "    }\n",
       "\n",
       "    .dataframe thead th {\n",
       "        text-align: right;\n",
       "    }\n",
       "</style>\n",
       "<table border=\"1\" class=\"dataframe\">\n",
       "  <thead>\n",
       "    <tr style=\"text-align: right;\">\n",
       "      <th></th>\n",
       "      <th>Class</th>\n",
       "      <th>age</th>\n",
       "      <th>menopause</th>\n",
       "      <th>tumor-size</th>\n",
       "      <th>inv-nodes</th>\n",
       "      <th>node-caps</th>\n",
       "      <th>deg-malig</th>\n",
       "      <th>breast</th>\n",
       "      <th>breast-quad</th>\n",
       "      <th>irradiat</th>\n",
       "    </tr>\n",
       "  </thead>\n",
       "  <tbody>\n",
       "    <tr>\n",
       "      <th>0</th>\n",
       "      <td>no-recurrence-events</td>\n",
       "      <td>30-39</td>\n",
       "      <td>premeno</td>\n",
       "      <td>30-34</td>\n",
       "      <td>0-2</td>\n",
       "      <td>no</td>\n",
       "      <td>3</td>\n",
       "      <td>left</td>\n",
       "      <td>left_low</td>\n",
       "      <td>no</td>\n",
       "    </tr>\n",
       "    <tr>\n",
       "      <th>1</th>\n",
       "      <td>no-recurrence-events</td>\n",
       "      <td>40-49</td>\n",
       "      <td>premeno</td>\n",
       "      <td>20-24</td>\n",
       "      <td>0-2</td>\n",
       "      <td>no</td>\n",
       "      <td>2</td>\n",
       "      <td>right</td>\n",
       "      <td>right_up</td>\n",
       "      <td>no</td>\n",
       "    </tr>\n",
       "    <tr>\n",
       "      <th>2</th>\n",
       "      <td>no-recurrence-events</td>\n",
       "      <td>40-49</td>\n",
       "      <td>premeno</td>\n",
       "      <td>20-24</td>\n",
       "      <td>0-2</td>\n",
       "      <td>no</td>\n",
       "      <td>2</td>\n",
       "      <td>left</td>\n",
       "      <td>left_low</td>\n",
       "      <td>no</td>\n",
       "    </tr>\n",
       "    <tr>\n",
       "      <th>3</th>\n",
       "      <td>no-recurrence-events</td>\n",
       "      <td>60-69</td>\n",
       "      <td>ge40</td>\n",
       "      <td>15-19</td>\n",
       "      <td>0-2</td>\n",
       "      <td>no</td>\n",
       "      <td>2</td>\n",
       "      <td>right</td>\n",
       "      <td>left_up</td>\n",
       "      <td>no</td>\n",
       "    </tr>\n",
       "    <tr>\n",
       "      <th>4</th>\n",
       "      <td>no-recurrence-events</td>\n",
       "      <td>40-49</td>\n",
       "      <td>premeno</td>\n",
       "      <td>0-4</td>\n",
       "      <td>0-2</td>\n",
       "      <td>no</td>\n",
       "      <td>2</td>\n",
       "      <td>right</td>\n",
       "      <td>right_low</td>\n",
       "      <td>no</td>\n",
       "    </tr>\n",
       "  </tbody>\n",
       "</table>\n",
       "</div>"
      ],
      "text/plain": [
       "                  Class    age menopause tumor-size inv-nodes node-caps  \\\n",
       "0  no-recurrence-events  30-39   premeno      30-34       0-2        no   \n",
       "1  no-recurrence-events  40-49   premeno      20-24       0-2        no   \n",
       "2  no-recurrence-events  40-49   premeno      20-24       0-2        no   \n",
       "3  no-recurrence-events  60-69      ge40      15-19       0-2        no   \n",
       "4  no-recurrence-events  40-49   premeno        0-4       0-2        no   \n",
       "\n",
       "   deg-malig breast breast-quad irradiat  \n",
       "0          3   left    left_low       no  \n",
       "1          2  right    right_up       no  \n",
       "2          2   left    left_low       no  \n",
       "3          2  right     left_up       no  \n",
       "4          2  right   right_low       no  "
      ]
     },
     "execution_count": 38,
     "metadata": {},
     "output_type": "execute_result"
    }
   ],
   "source": [
    "df.head()"
   ]
  },
  {
   "cell_type": "code",
   "execution_count": 39,
   "metadata": {},
   "outputs": [
    {
     "data": {
      "text/plain": [
       "Class          0\n",
       "age            0\n",
       "menopause      0\n",
       "tumor-size     0\n",
       "inv-nodes      0\n",
       "node-caps      0\n",
       "deg-malig      0\n",
       "breast         0\n",
       "breast-quad    0\n",
       "irradiat       0\n",
       "dtype: int64"
      ]
     },
     "execution_count": 39,
     "metadata": {},
     "output_type": "execute_result"
    }
   ],
   "source": [
    "df.isna().sum()"
   ]
  },
  {
   "cell_type": "code",
   "execution_count": 40,
   "metadata": {},
   "outputs": [
    {
     "data": {
      "text/plain": [
       "0      False\n",
       "1      False\n",
       "2      False\n",
       "3      False\n",
       "4      False\n",
       "       ...  \n",
       "281    False\n",
       "282    False\n",
       "283    False\n",
       "284    False\n",
       "285    False\n",
       "Length: 286, dtype: bool"
      ]
     },
     "execution_count": 40,
     "metadata": {},
     "output_type": "execute_result"
    }
   ],
   "source": [
    "df.duplicated()"
   ]
  },
  {
   "cell_type": "code",
   "execution_count": 41,
   "metadata": {},
   "outputs": [
    {
     "name": "stdout",
     "output_type": "stream",
     "text": [
      "<class 'pandas.core.frame.DataFrame'>\n",
      "RangeIndex: 286 entries, 0 to 285\n",
      "Data columns (total 10 columns):\n",
      " #   Column       Non-Null Count  Dtype \n",
      "---  ------       --------------  ----- \n",
      " 0   Class        286 non-null    object\n",
      " 1   age          286 non-null    object\n",
      " 2   menopause    286 non-null    object\n",
      " 3   tumor-size   286 non-null    object\n",
      " 4   inv-nodes    286 non-null    object\n",
      " 5   node-caps    286 non-null    object\n",
      " 6   deg-malig    286 non-null    int64 \n",
      " 7   breast       286 non-null    object\n",
      " 8   breast-quad  286 non-null    object\n",
      " 9   irradiat     286 non-null    object\n",
      "dtypes: int64(1), object(9)\n",
      "memory usage: 22.5+ KB\n"
     ]
    }
   ],
   "source": [
    "df.info()"
   ]
  },
  {
   "cell_type": "code",
   "execution_count": 42,
   "metadata": {},
   "outputs": [],
   "source": [
    "x = df[['age','menopause','tumor-size','inv-nodes','node-caps','deg-malig','breast','breast-quad']] #Feature\n",
    "y = df[\"irradiat\"] #Target"
   ]
  },
  {
   "cell_type": "markdown",
   "metadata": {},
   "source": [
    "# ENCODING DATA"
   ]
  },
  {
   "cell_type": "code",
   "execution_count": 43,
   "metadata": {},
   "outputs": [],
   "source": [
    "x = pd.get_dummies(x)"
   ]
  },
  {
   "cell_type": "code",
   "execution_count": 44,
   "metadata": {},
   "outputs": [],
   "source": [
    "from sklearn.preprocessing import LabelEncoder"
   ]
  },
  {
   "cell_type": "code",
   "execution_count": 45,
   "metadata": {},
   "outputs": [],
   "source": [
    "O = LabelEncoder()"
   ]
  },
  {
   "cell_type": "code",
   "execution_count": 46,
   "metadata": {},
   "outputs": [],
   "source": [
    "y = O.fit_transform(y)"
   ]
  },
  {
   "cell_type": "markdown",
   "metadata": {},
   "source": [
    "# SPLIT DATA"
   ]
  },
  {
   "cell_type": "code",
   "execution_count": 47,
   "metadata": {},
   "outputs": [],
   "source": [
    "x_train, x_test, y_train, y_test = train_test_split(x, y, test_size=0.3)"
   ]
  },
  {
   "cell_type": "code",
   "execution_count": 48,
   "metadata": {},
   "outputs": [
    {
     "name": "stdout",
     "output_type": "stream",
     "text": [
      "panjang x train : 200\n",
      " panjang y train : 200\n",
      " panjang x test : 86\n",
      " panjang y test : 86\n",
      "\n"
     ]
    }
   ],
   "source": [
    "print(f'panjang x train : {len(x_train)}\\n',\n",
    "f'panjang y train : {len(y_train)}\\n',\n",
    "f'panjang x test : {len(x_test)}\\n',\n",
    "f'panjang y test : {len(y_test)}\\n')"
   ]
  },
  {
   "cell_type": "code",
   "execution_count": 49,
   "metadata": {},
   "outputs": [
    {
     "name": "stdout",
     "output_type": "stream",
     "text": [
      "<class 'pandas.core.frame.DataFrame'>\n",
      "RangeIndex: 286 entries, 0 to 285\n",
      "Data columns (total 39 columns):\n",
      " #   Column                 Non-Null Count  Dtype\n",
      "---  ------                 --------------  -----\n",
      " 0   deg-malig              286 non-null    int64\n",
      " 1   age_20-29              286 non-null    uint8\n",
      " 2   age_30-39              286 non-null    uint8\n",
      " 3   age_40-49              286 non-null    uint8\n",
      " 4   age_50-59              286 non-null    uint8\n",
      " 5   age_60-69              286 non-null    uint8\n",
      " 6   age_70-79              286 non-null    uint8\n",
      " 7   menopause_ge40         286 non-null    uint8\n",
      " 8   menopause_lt40         286 non-null    uint8\n",
      " 9   menopause_premeno      286 non-null    uint8\n",
      " 10  tumor-size_0-4         286 non-null    uint8\n",
      " 11  tumor-size_10-14       286 non-null    uint8\n",
      " 12  tumor-size_15-19       286 non-null    uint8\n",
      " 13  tumor-size_20-24       286 non-null    uint8\n",
      " 14  tumor-size_25-29       286 non-null    uint8\n",
      " 15  tumor-size_30-34       286 non-null    uint8\n",
      " 16  tumor-size_35-39       286 non-null    uint8\n",
      " 17  tumor-size_40-44       286 non-null    uint8\n",
      " 18  tumor-size_45-49       286 non-null    uint8\n",
      " 19  tumor-size_5-9         286 non-null    uint8\n",
      " 20  tumor-size_50-54       286 non-null    uint8\n",
      " 21  inv-nodes_0-2          286 non-null    uint8\n",
      " 22  inv-nodes_12-14        286 non-null    uint8\n",
      " 23  inv-nodes_15-17        286 non-null    uint8\n",
      " 24  inv-nodes_24-26        286 non-null    uint8\n",
      " 25  inv-nodes_3-5          286 non-null    uint8\n",
      " 26  inv-nodes_6-8          286 non-null    uint8\n",
      " 27  inv-nodes_9-11         286 non-null    uint8\n",
      " 28  node-caps_?            286 non-null    uint8\n",
      " 29  node-caps_no           286 non-null    uint8\n",
      " 30  node-caps_yes          286 non-null    uint8\n",
      " 31  breast_left            286 non-null    uint8\n",
      " 32  breast_right           286 non-null    uint8\n",
      " 33  breast-quad_?          286 non-null    uint8\n",
      " 34  breast-quad_central    286 non-null    uint8\n",
      " 35  breast-quad_left_low   286 non-null    uint8\n",
      " 36  breast-quad_left_up    286 non-null    uint8\n",
      " 37  breast-quad_right_low  286 non-null    uint8\n",
      " 38  breast-quad_right_up   286 non-null    uint8\n",
      "dtypes: int64(1), uint8(38)\n",
      "memory usage: 13.0 KB\n"
     ]
    }
   ],
   "source": [
    "x.info()"
   ]
  },
  {
   "cell_type": "markdown",
   "metadata": {},
   "source": [
    "# Data standarisasi"
   ]
  },
  {
   "cell_type": "code",
   "execution_count": 50,
   "metadata": {},
   "outputs": [],
   "source": [
    "ss = StandardScaler()"
   ]
  },
  {
   "cell_type": "code",
   "execution_count": 51,
   "metadata": {},
   "outputs": [],
   "source": [
    "x_scaled_train = ss.fit_transform(x_train)\n",
    "x_scaled_test = ss.fit_transform(x_test)"
   ]
  },
  {
   "cell_type": "code",
   "execution_count": 52,
   "metadata": {},
   "outputs": [],
   "source": [
    "y_train = to_categorical(y_train, 2)\n",
    "y_test = to_categorical(y_test, 2)"
   ]
  },
  {
   "cell_type": "markdown",
   "metadata": {},
   "source": [
    "# MEMBUAT MODEL"
   ]
  },
  {
   "cell_type": "code",
   "execution_count": 53,
   "metadata": {},
   "outputs": [
    {
     "name": "stdout",
     "output_type": "stream",
     "text": [
      "Model: \"sequential_1\"\n",
      "_________________________________________________________________\n",
      " Layer (type)                Output Shape              Param #   \n",
      "=================================================================\n",
      " dense_2 (Dense)             (None, 50)                2000      \n",
      "                                                                 \n",
      " dense_3 (Dense)             (None, 2)                 102       \n",
      "                                                                 \n",
      "=================================================================\n",
      "Total params: 2,102\n",
      "Trainable params: 2,102\n",
      "Non-trainable params: 0\n",
      "_________________________________________________________________\n"
     ]
    }
   ],
   "source": [
    "from keras import Sequential\n",
    "from keras.layers import Dense\n",
    "\n",
    "model = Sequential()\n",
    "\n",
    "#Input Layer\n",
    "model.add(Dense(50, activation='relu', input_dim=39))\n",
    "\n",
    "#Output Layer\n",
    "model.add(Dense(2, activation='sigmoid')) #output layer harus disamakan dengan jumlah class, semakin banyak jumlah neuron semakin kompleks modelnya jadi bisa overfitting\n",
    "\n",
    "model.summary()"
   ]
  },
  {
   "cell_type": "markdown",
   "metadata": {},
   "source": [
    "# Import Library"
   ]
  },
  {
   "cell_type": "code",
   "execution_count": 54,
   "metadata": {},
   "outputs": [],
   "source": [
    "from keras.utils import to_categorical\n",
    "from keras.optimizers import Adam\n",
    "from keras.losses import binary_crossentropy"
   ]
  },
  {
   "cell_type": "markdown",
   "metadata": {},
   "source": [
    "# Mengoptimasi Model"
   ]
  },
  {
   "cell_type": "code",
   "execution_count": 55,
   "metadata": {},
   "outputs": [],
   "source": [
    "# Import the early stopping callback\n",
    "from keras.callbacks import EarlyStopping\n",
    "\n",
    "# Define a callback to monitor val_accuracy\n",
    "monitor_val_acc = EarlyStopping(monitor='accuracy', #dilihat berdasarkan validasi accuracy atau accuracy saja, tetapi monitor hanya bisa memasukkan 1 saja\n",
    "                                patience=20)#jadi jika di 20 epoch selanjutnya itu tidak berubah maka diberentikan\n"
   ]
  },
  {
   "cell_type": "code",
   "execution_count": 56,
   "metadata": {},
   "outputs": [],
   "source": [
    "model.compile(\n",
    "    optimizer=Adam(),\n",
    "    loss = binary_crossentropy,\n",
    "    metrics = ['accuracy']\n",
    ")"
   ]
  },
  {
   "cell_type": "markdown",
   "metadata": {},
   "source": [
    "# Melatih model training"
   ]
  },
  {
   "cell_type": "code",
   "execution_count": 57,
   "metadata": {},
   "outputs": [
    {
     "name": "stdout",
     "output_type": "stream",
     "text": [
      "Epoch 1/120\n",
      "7/7 [==============================] - 1s 26ms/step - loss: 0.6389 - accuracy: 0.7350 - val_loss: 0.6031 - val_accuracy: 0.7791\n",
      "Epoch 2/120\n",
      "7/7 [==============================] - 0s 7ms/step - loss: 0.5973 - accuracy: 0.7500 - val_loss: 0.5805 - val_accuracy: 0.7907\n",
      "Epoch 3/120\n",
      "7/7 [==============================] - 0s 6ms/step - loss: 0.5660 - accuracy: 0.7500 - val_loss: 0.5635 - val_accuracy: 0.7791\n",
      "Epoch 4/120\n",
      "7/7 [==============================] - 0s 7ms/step - loss: 0.5414 - accuracy: 0.7550 - val_loss: 0.5488 - val_accuracy: 0.7907\n",
      "Epoch 5/120\n",
      "7/7 [==============================] - 0s 7ms/step - loss: 0.5186 - accuracy: 0.7650 - val_loss: 0.5370 - val_accuracy: 0.8023\n",
      "Epoch 6/120\n",
      "7/7 [==============================] - 0s 7ms/step - loss: 0.4996 - accuracy: 0.7700 - val_loss: 0.5273 - val_accuracy: 0.8023\n",
      "Epoch 7/120\n",
      "7/7 [==============================] - 0s 6ms/step - loss: 0.4835 - accuracy: 0.7650 - val_loss: 0.5191 - val_accuracy: 0.8023\n",
      "Epoch 8/120\n",
      "7/7 [==============================] - 0s 6ms/step - loss: 0.4688 - accuracy: 0.7750 - val_loss: 0.5132 - val_accuracy: 0.8023\n",
      "Epoch 9/120\n",
      "7/7 [==============================] - 0s 7ms/step - loss: 0.4562 - accuracy: 0.7850 - val_loss: 0.5083 - val_accuracy: 0.8023\n",
      "Epoch 10/120\n",
      "7/7 [==============================] - 0s 7ms/step - loss: 0.4442 - accuracy: 0.7900 - val_loss: 0.5028 - val_accuracy: 0.8023\n",
      "Epoch 11/120\n",
      "7/7 [==============================] - 0s 7ms/step - loss: 0.4342 - accuracy: 0.8000 - val_loss: 0.4988 - val_accuracy: 0.7907\n",
      "Epoch 12/120\n",
      "7/7 [==============================] - 0s 6ms/step - loss: 0.4238 - accuracy: 0.8200 - val_loss: 0.4965 - val_accuracy: 0.7907\n",
      "Epoch 13/120\n",
      "7/7 [==============================] - 0s 6ms/step - loss: 0.4150 - accuracy: 0.8200 - val_loss: 0.4946 - val_accuracy: 0.7907\n",
      "Epoch 14/120\n",
      "7/7 [==============================] - 0s 8ms/step - loss: 0.4066 - accuracy: 0.8250 - val_loss: 0.4932 - val_accuracy: 0.7907\n",
      "Epoch 15/120\n",
      "7/7 [==============================] - 0s 10ms/step - loss: 0.3991 - accuracy: 0.8300 - val_loss: 0.4918 - val_accuracy: 0.7791\n",
      "Epoch 16/120\n",
      "7/7 [==============================] - 0s 10ms/step - loss: 0.3918 - accuracy: 0.8300 - val_loss: 0.4908 - val_accuracy: 0.7907\n",
      "Epoch 17/120\n",
      "7/7 [==============================] - 0s 8ms/step - loss: 0.3856 - accuracy: 0.8400 - val_loss: 0.4910 - val_accuracy: 0.7907\n",
      "Epoch 18/120\n",
      "7/7 [==============================] - 0s 7ms/step - loss: 0.3793 - accuracy: 0.8400 - val_loss: 0.4901 - val_accuracy: 0.7907\n",
      "Epoch 19/120\n",
      "7/7 [==============================] - 0s 7ms/step - loss: 0.3728 - accuracy: 0.8500 - val_loss: 0.4869 - val_accuracy: 0.7907\n",
      "Epoch 20/120\n",
      "7/7 [==============================] - 0s 6ms/step - loss: 0.3677 - accuracy: 0.8550 - val_loss: 0.4843 - val_accuracy: 0.7907\n",
      "Epoch 21/120\n",
      "7/7 [==============================] - 0s 6ms/step - loss: 0.3622 - accuracy: 0.8500 - val_loss: 0.4832 - val_accuracy: 0.7907\n",
      "Epoch 22/120\n",
      "7/7 [==============================] - 0s 6ms/step - loss: 0.3570 - accuracy: 0.8500 - val_loss: 0.4823 - val_accuracy: 0.7907\n",
      "Epoch 23/120\n",
      "7/7 [==============================] - 0s 6ms/step - loss: 0.3521 - accuracy: 0.8500 - val_loss: 0.4825 - val_accuracy: 0.7907\n",
      "Epoch 24/120\n",
      "7/7 [==============================] - 0s 6ms/step - loss: 0.3475 - accuracy: 0.8500 - val_loss: 0.4843 - val_accuracy: 0.7907\n",
      "Epoch 25/120\n",
      "7/7 [==============================] - 0s 6ms/step - loss: 0.3420 - accuracy: 0.8550 - val_loss: 0.4857 - val_accuracy: 0.7907\n",
      "Epoch 26/120\n",
      "7/7 [==============================] - 0s 7ms/step - loss: 0.3380 - accuracy: 0.8600 - val_loss: 0.4891 - val_accuracy: 0.8023\n",
      "Epoch 27/120\n",
      "7/7 [==============================] - 0s 7ms/step - loss: 0.3340 - accuracy: 0.8650 - val_loss: 0.4917 - val_accuracy: 0.8023\n",
      "Epoch 28/120\n",
      "7/7 [==============================] - 0s 8ms/step - loss: 0.3298 - accuracy: 0.8650 - val_loss: 0.4928 - val_accuracy: 0.8023\n",
      "Epoch 29/120\n",
      "7/7 [==============================] - 0s 9ms/step - loss: 0.3261 - accuracy: 0.8700 - val_loss: 0.4947 - val_accuracy: 0.8023\n",
      "Epoch 30/120\n",
      "7/7 [==============================] - 0s 10ms/step - loss: 0.3220 - accuracy: 0.8750 - val_loss: 0.4959 - val_accuracy: 0.8023\n",
      "Epoch 31/120\n",
      "7/7 [==============================] - 0s 8ms/step - loss: 0.3179 - accuracy: 0.8750 - val_loss: 0.4971 - val_accuracy: 0.8023\n",
      "Epoch 32/120\n",
      "7/7 [==============================] - 0s 7ms/step - loss: 0.3147 - accuracy: 0.8850 - val_loss: 0.4982 - val_accuracy: 0.8023\n",
      "Epoch 33/120\n",
      "7/7 [==============================] - 0s 7ms/step - loss: 0.3106 - accuracy: 0.8850 - val_loss: 0.4980 - val_accuracy: 0.8023\n",
      "Epoch 34/120\n",
      "7/7 [==============================] - 0s 6ms/step - loss: 0.3079 - accuracy: 0.8800 - val_loss: 0.4977 - val_accuracy: 0.8023\n",
      "Epoch 35/120\n",
      "7/7 [==============================] - 0s 7ms/step - loss: 0.3035 - accuracy: 0.8900 - val_loss: 0.5019 - val_accuracy: 0.8023\n",
      "Epoch 36/120\n",
      "7/7 [==============================] - 0s 6ms/step - loss: 0.3002 - accuracy: 0.8900 - val_loss: 0.5039 - val_accuracy: 0.8023\n",
      "Epoch 37/120\n",
      "7/7 [==============================] - 0s 7ms/step - loss: 0.2968 - accuracy: 0.9000 - val_loss: 0.5048 - val_accuracy: 0.7907\n",
      "Epoch 38/120\n",
      "7/7 [==============================] - 0s 7ms/step - loss: 0.2934 - accuracy: 0.9000 - val_loss: 0.5074 - val_accuracy: 0.7907\n",
      "Epoch 39/120\n",
      "7/7 [==============================] - 0s 7ms/step - loss: 0.2903 - accuracy: 0.9000 - val_loss: 0.5084 - val_accuracy: 0.7907\n",
      "Epoch 40/120\n",
      "7/7 [==============================] - 0s 7ms/step - loss: 0.2870 - accuracy: 0.8950 - val_loss: 0.5092 - val_accuracy: 0.7791\n",
      "Epoch 41/120\n",
      "7/7 [==============================] - 0s 8ms/step - loss: 0.2837 - accuracy: 0.8950 - val_loss: 0.5097 - val_accuracy: 0.7791\n",
      "Epoch 42/120\n",
      "7/7 [==============================] - 0s 7ms/step - loss: 0.2804 - accuracy: 0.8950 - val_loss: 0.5119 - val_accuracy: 0.7907\n",
      "Epoch 43/120\n",
      "7/7 [==============================] - 0s 7ms/step - loss: 0.2772 - accuracy: 0.9000 - val_loss: 0.5146 - val_accuracy: 0.7907\n",
      "Epoch 44/120\n",
      "7/7 [==============================] - 0s 7ms/step - loss: 0.2744 - accuracy: 0.9050 - val_loss: 0.5155 - val_accuracy: 0.7907\n",
      "Epoch 45/120\n",
      "7/7 [==============================] - 0s 7ms/step - loss: 0.2713 - accuracy: 0.9050 - val_loss: 0.5169 - val_accuracy: 0.7907\n",
      "Epoch 46/120\n",
      "7/7 [==============================] - 0s 7ms/step - loss: 0.2684 - accuracy: 0.9050 - val_loss: 0.5193 - val_accuracy: 0.7907\n",
      "Epoch 47/120\n",
      "7/7 [==============================] - 0s 7ms/step - loss: 0.2650 - accuracy: 0.9050 - val_loss: 0.5210 - val_accuracy: 0.7791\n",
      "Epoch 48/120\n",
      "7/7 [==============================] - 0s 7ms/step - loss: 0.2618 - accuracy: 0.9050 - val_loss: 0.5236 - val_accuracy: 0.7791\n",
      "Epoch 49/120\n",
      "7/7 [==============================] - 0s 7ms/step - loss: 0.2596 - accuracy: 0.9000 - val_loss: 0.5256 - val_accuracy: 0.7791\n",
      "Epoch 50/120\n",
      "7/7 [==============================] - 0s 8ms/step - loss: 0.2568 - accuracy: 0.9000 - val_loss: 0.5278 - val_accuracy: 0.7791\n",
      "Epoch 51/120\n",
      "7/7 [==============================] - 0s 8ms/step - loss: 0.2545 - accuracy: 0.9000 - val_loss: 0.5305 - val_accuracy: 0.7791\n",
      "Epoch 52/120\n",
      "7/7 [==============================] - 0s 7ms/step - loss: 0.2515 - accuracy: 0.9000 - val_loss: 0.5303 - val_accuracy: 0.7791\n",
      "Epoch 53/120\n",
      "7/7 [==============================] - 0s 7ms/step - loss: 0.2489 - accuracy: 0.9000 - val_loss: 0.5322 - val_accuracy: 0.7674\n",
      "Epoch 54/120\n",
      "7/7 [==============================] - 0s 7ms/step - loss: 0.2455 - accuracy: 0.9100 - val_loss: 0.5324 - val_accuracy: 0.7674\n",
      "Epoch 55/120\n",
      "7/7 [==============================] - 0s 7ms/step - loss: 0.2429 - accuracy: 0.9100 - val_loss: 0.5325 - val_accuracy: 0.7674\n",
      "Epoch 56/120\n",
      "7/7 [==============================] - 0s 7ms/step - loss: 0.2403 - accuracy: 0.9100 - val_loss: 0.5333 - val_accuracy: 0.7674\n",
      "Epoch 57/120\n",
      "7/7 [==============================] - 0s 7ms/step - loss: 0.2377 - accuracy: 0.9100 - val_loss: 0.5351 - val_accuracy: 0.7791\n",
      "Epoch 58/120\n",
      "7/7 [==============================] - 0s 7ms/step - loss: 0.2353 - accuracy: 0.9100 - val_loss: 0.5380 - val_accuracy: 0.7791\n",
      "Epoch 59/120\n",
      "7/7 [==============================] - 0s 7ms/step - loss: 0.2327 - accuracy: 0.9100 - val_loss: 0.5430 - val_accuracy: 0.7791\n",
      "Epoch 60/120\n",
      "7/7 [==============================] - 0s 8ms/step - loss: 0.2301 - accuracy: 0.9100 - val_loss: 0.5474 - val_accuracy: 0.7791\n",
      "Epoch 61/120\n",
      "7/7 [==============================] - 0s 7ms/step - loss: 0.2277 - accuracy: 0.9100 - val_loss: 0.5507 - val_accuracy: 0.7791\n",
      "Epoch 62/120\n",
      "7/7 [==============================] - 0s 6ms/step - loss: 0.2253 - accuracy: 0.9100 - val_loss: 0.5532 - val_accuracy: 0.7791\n",
      "Epoch 63/120\n",
      "7/7 [==============================] - 0s 7ms/step - loss: 0.2228 - accuracy: 0.9100 - val_loss: 0.5544 - val_accuracy: 0.7791\n",
      "Epoch 64/120\n",
      "7/7 [==============================] - 0s 8ms/step - loss: 0.2205 - accuracy: 0.9150 - val_loss: 0.5566 - val_accuracy: 0.7791\n",
      "Epoch 65/120\n",
      "7/7 [==============================] - 0s 8ms/step - loss: 0.2178 - accuracy: 0.9200 - val_loss: 0.5584 - val_accuracy: 0.7791\n",
      "Epoch 66/120\n",
      "7/7 [==============================] - 0s 8ms/step - loss: 0.2154 - accuracy: 0.9250 - val_loss: 0.5594 - val_accuracy: 0.7907\n",
      "Epoch 67/120\n",
      "7/7 [==============================] - 0s 8ms/step - loss: 0.2130 - accuracy: 0.9300 - val_loss: 0.5612 - val_accuracy: 0.7907\n",
      "Epoch 68/120\n",
      "7/7 [==============================] - 0s 7ms/step - loss: 0.2108 - accuracy: 0.9300 - val_loss: 0.5625 - val_accuracy: 0.7791\n",
      "Epoch 69/120\n",
      "7/7 [==============================] - 0s 8ms/step - loss: 0.2086 - accuracy: 0.9300 - val_loss: 0.5663 - val_accuracy: 0.7907\n",
      "Epoch 70/120\n",
      "7/7 [==============================] - 0s 8ms/step - loss: 0.2062 - accuracy: 0.9300 - val_loss: 0.5672 - val_accuracy: 0.7791\n",
      "Epoch 71/120\n",
      "7/7 [==============================] - 0s 7ms/step - loss: 0.2040 - accuracy: 0.9300 - val_loss: 0.5699 - val_accuracy: 0.7791\n",
      "Epoch 72/120\n",
      "7/7 [==============================] - 0s 7ms/step - loss: 0.2016 - accuracy: 0.9350 - val_loss: 0.5733 - val_accuracy: 0.7674\n",
      "Epoch 73/120\n",
      "7/7 [==============================] - 0s 7ms/step - loss: 0.2002 - accuracy: 0.9350 - val_loss: 0.5800 - val_accuracy: 0.7558\n",
      "Epoch 74/120\n",
      "7/7 [==============================] - 0s 7ms/step - loss: 0.1986 - accuracy: 0.9350 - val_loss: 0.5844 - val_accuracy: 0.7442\n",
      "Epoch 75/120\n",
      "7/7 [==============================] - 0s 8ms/step - loss: 0.1961 - accuracy: 0.9400 - val_loss: 0.5878 - val_accuracy: 0.7442\n",
      "Epoch 76/120\n",
      "7/7 [==============================] - 0s 7ms/step - loss: 0.1933 - accuracy: 0.9450 - val_loss: 0.5914 - val_accuracy: 0.7558\n",
      "Epoch 77/120\n",
      "7/7 [==============================] - 0s 7ms/step - loss: 0.1911 - accuracy: 0.9450 - val_loss: 0.5957 - val_accuracy: 0.7558\n",
      "Epoch 78/120\n",
      "7/7 [==============================] - 0s 7ms/step - loss: 0.1893 - accuracy: 0.9450 - val_loss: 0.5969 - val_accuracy: 0.7558\n",
      "Epoch 79/120\n",
      "7/7 [==============================] - 0s 7ms/step - loss: 0.1869 - accuracy: 0.9450 - val_loss: 0.6006 - val_accuracy: 0.7558\n",
      "Epoch 80/120\n",
      "7/7 [==============================] - 0s 7ms/step - loss: 0.1852 - accuracy: 0.9450 - val_loss: 0.6026 - val_accuracy: 0.7558\n",
      "Epoch 81/120\n",
      "7/7 [==============================] - 0s 7ms/step - loss: 0.1828 - accuracy: 0.9500 - val_loss: 0.6054 - val_accuracy: 0.7791\n",
      "Epoch 82/120\n",
      "7/7 [==============================] - 0s 7ms/step - loss: 0.1810 - accuracy: 0.9500 - val_loss: 0.6056 - val_accuracy: 0.7791\n",
      "Epoch 83/120\n",
      "7/7 [==============================] - 0s 7ms/step - loss: 0.1790 - accuracy: 0.9450 - val_loss: 0.6068 - val_accuracy: 0.7674\n",
      "Epoch 84/120\n",
      "7/7 [==============================] - 0s 7ms/step - loss: 0.1769 - accuracy: 0.9500 - val_loss: 0.6066 - val_accuracy: 0.7674\n",
      "Epoch 85/120\n",
      "7/7 [==============================] - 0s 7ms/step - loss: 0.1754 - accuracy: 0.9500 - val_loss: 0.6107 - val_accuracy: 0.7791\n",
      "Epoch 86/120\n",
      "7/7 [==============================] - 0s 8ms/step - loss: 0.1729 - accuracy: 0.9500 - val_loss: 0.6136 - val_accuracy: 0.7674\n",
      "Epoch 87/120\n",
      "7/7 [==============================] - 0s 7ms/step - loss: 0.1714 - accuracy: 0.9550 - val_loss: 0.6153 - val_accuracy: 0.7674\n",
      "Epoch 88/120\n",
      "7/7 [==============================] - 0s 8ms/step - loss: 0.1694 - accuracy: 0.9550 - val_loss: 0.6184 - val_accuracy: 0.7907\n",
      "Epoch 89/120\n",
      "7/7 [==============================] - 0s 7ms/step - loss: 0.1673 - accuracy: 0.9600 - val_loss: 0.6199 - val_accuracy: 0.7791\n",
      "Epoch 90/120\n",
      "7/7 [==============================] - 0s 7ms/step - loss: 0.1655 - accuracy: 0.9600 - val_loss: 0.6215 - val_accuracy: 0.7791\n",
      "Epoch 91/120\n",
      "7/7 [==============================] - 0s 7ms/step - loss: 0.1633 - accuracy: 0.9600 - val_loss: 0.6237 - val_accuracy: 0.7791\n",
      "Epoch 92/120\n",
      "7/7 [==============================] - 0s 7ms/step - loss: 0.1618 - accuracy: 0.9600 - val_loss: 0.6266 - val_accuracy: 0.7674\n",
      "Epoch 93/120\n",
      "7/7 [==============================] - 0s 7ms/step - loss: 0.1603 - accuracy: 0.9600 - val_loss: 0.6281 - val_accuracy: 0.7674\n",
      "Epoch 94/120\n",
      "7/7 [==============================] - 0s 7ms/step - loss: 0.1582 - accuracy: 0.9600 - val_loss: 0.6320 - val_accuracy: 0.7674\n",
      "Epoch 95/120\n",
      "7/7 [==============================] - 0s 7ms/step - loss: 0.1567 - accuracy: 0.9600 - val_loss: 0.6366 - val_accuracy: 0.7674\n",
      "Epoch 96/120\n",
      "7/7 [==============================] - 0s 7ms/step - loss: 0.1550 - accuracy: 0.9600 - val_loss: 0.6385 - val_accuracy: 0.7674\n",
      "Epoch 97/120\n",
      "7/7 [==============================] - 0s 7ms/step - loss: 0.1534 - accuracy: 0.9600 - val_loss: 0.6408 - val_accuracy: 0.7674\n",
      "Epoch 98/120\n",
      "7/7 [==============================] - 0s 7ms/step - loss: 0.1516 - accuracy: 0.9600 - val_loss: 0.6425 - val_accuracy: 0.7674\n",
      "Epoch 99/120\n",
      "7/7 [==============================] - 0s 6ms/step - loss: 0.1502 - accuracy: 0.9600 - val_loss: 0.6418 - val_accuracy: 0.7674\n",
      "Epoch 100/120\n",
      "7/7 [==============================] - 0s 8ms/step - loss: 0.1482 - accuracy: 0.9600 - val_loss: 0.6448 - val_accuracy: 0.7791\n",
      "Epoch 101/120\n",
      "7/7 [==============================] - 0s 7ms/step - loss: 0.1469 - accuracy: 0.9600 - val_loss: 0.6480 - val_accuracy: 0.7791\n",
      "Epoch 102/120\n",
      "7/7 [==============================] - 0s 7ms/step - loss: 0.1452 - accuracy: 0.9600 - val_loss: 0.6505 - val_accuracy: 0.7791\n",
      "Epoch 103/120\n",
      "7/7 [==============================] - 0s 7ms/step - loss: 0.1439 - accuracy: 0.9600 - val_loss: 0.6529 - val_accuracy: 0.7791\n",
      "Epoch 104/120\n",
      "7/7 [==============================] - 0s 7ms/step - loss: 0.1420 - accuracy: 0.9600 - val_loss: 0.6555 - val_accuracy: 0.7791\n",
      "Epoch 105/120\n",
      "7/7 [==============================] - 0s 7ms/step - loss: 0.1404 - accuracy: 0.9600 - val_loss: 0.6554 - val_accuracy: 0.7791\n",
      "Epoch 106/120\n",
      "7/7 [==============================] - 0s 8ms/step - loss: 0.1403 - accuracy: 0.9600 - val_loss: 0.6567 - val_accuracy: 0.7442\n",
      "Epoch 107/120\n",
      "7/7 [==============================] - 0s 7ms/step - loss: 0.1378 - accuracy: 0.9600 - val_loss: 0.6586 - val_accuracy: 0.7442\n",
      "Epoch 108/120\n",
      "7/7 [==============================] - 0s 8ms/step - loss: 0.1361 - accuracy: 0.9600 - val_loss: 0.6620 - val_accuracy: 0.7442\n",
      "Epoch 109/120\n",
      "7/7 [==============================] - 0s 8ms/step - loss: 0.1351 - accuracy: 0.9600 - val_loss: 0.6640 - val_accuracy: 0.7791\n"
     ]
    }
   ],
   "source": [
    "history = model.fit(\n",
    "    x = x_scaled_train, \n",
    "    y = y_train,\n",
    "    validation_data=(x_scaled_test,y_test),\n",
    "    epochs=120,\n",
    "    verbose=1,\n",
    "    callbacks=[monitor_val_acc]\n",
    ")"
   ]
  },
  {
   "cell_type": "code",
   "execution_count": 58,
   "metadata": {},
   "outputs": [
    {
     "name": "stdout",
     "output_type": "stream",
     "text": [
      "3/3 [==============================] - 0s 2ms/step - loss: 0.6640 - accuracy: 0.7791\n"
     ]
    },
    {
     "data": {
      "text/plain": [
       "[0.663952648639679, 0.7790697813034058]"
      ]
     },
     "execution_count": 58,
     "metadata": {},
     "output_type": "execute_result"
    }
   ],
   "source": [
    "model.evaluate(x_scaled_test,y_test)"
   ]
  },
  {
   "cell_type": "markdown",
   "metadata": {},
   "source": [
    "# Visualisasi"
   ]
  },
  {
   "cell_type": "code",
   "execution_count": 59,
   "metadata": {},
   "outputs": [
    {
     "data": {
      "image/png": "[encoded data removed]",
      "text/plain": [
       "<Figure size 500x500 with 1 Axes>"
      ]
     },
     "metadata": {},
     "output_type": "display_data"
    }
   ],
   "source": [
    "plt.figure(1, figsize=(5,5))\n",
    "plt.plot(range(len(history.history['accuracy'])), \n",
    "         history.history['accuracy'],\n",
    "         label='training')\n",
    "plt.plot(range(len(history.history['val_accuracy'])), \n",
    "         history.history['val_accuracy'],\n",
    "         label='validation')\n",
    "plt.legend()\n",
    "plt.show()"
   ]
  },
  {
   "cell_type": "code",
   "execution_count": 60,
   "metadata": {},
   "outputs": [],
   "source": [
    "from sklearn.metrics import ConfusionMatrixDisplay\n",
    "from sklearn.metrics import confusion_matrix"
   ]
  },
  {
   "cell_type": "code",
   "execution_count": 61,
   "metadata": {},
   "outputs": [
    {
     "name": "stdout",
     "output_type": "stream",
     "text": [
      "3/3 [==============================] - 0s 2ms/step\n"
     ]
    }
   ],
   "source": [
    "y_pred = model.predict(x_scaled_test)"
   ]
  },
  {
   "cell_type": "markdown",
   "metadata": {},
   "source": [
    "Hasil Probabilitas\n",
    "- jika lebih besar kiri maka mengembalikan 0 \n",
    "- jika lbeih besar kanan mengembalikan 1"
   ]
  },
  {
   "cell_type": "code",
   "execution_count": 62,
   "metadata": {},
   "outputs": [
    {
     "data": {
      "text/plain": [
       "array([[9.94978666e-01, 2.21266528e-03],\n",
       "       [9.58417535e-01, 9.78155285e-02],\n",
       "       [2.11703703e-01, 7.63575852e-01],\n",
       "       [9.41002727e-01, 2.25052666e-02],\n",
       "       [9.79952157e-01, 1.64999720e-02],\n",
       "       [9.98830199e-01, 1.59576850e-03],\n",
       "       [8.69253278e-01, 2.16260880e-01],\n",
       "       [4.77930039e-01, 4.64319646e-01],\n",
       "       [5.49888015e-01, 5.01582503e-01],\n",
       "       [9.97846901e-01, 1.93399505e-03],\n",
       "       [7.62239337e-01, 3.59883070e-01],\n",
       "       [7.68917859e-01, 1.66309521e-01],\n",
       "       [7.53013432e-01, 2.64405996e-01],\n",
       "       [9.63356376e-01, 5.08432910e-02],\n",
       "       [1.82961319e-02, 9.77574646e-01],\n",
       "       [4.36879456e-01, 4.62595195e-01],\n",
       "       [9.62142587e-01, 6.93760999e-03],\n",
       "       [9.64358807e-01, 1.74284410e-02],\n",
       "       [9.09811080e-01, 1.01225540e-01],\n",
       "       [9.89905596e-01, 1.78840216e-02],\n",
       "       [8.52010489e-01, 3.15392733e-01],\n",
       "       [9.94171381e-01, 4.75969072e-03],\n",
       "       [9.33293581e-01, 6.56771064e-02],\n",
       "       [8.79788220e-01, 1.73079818e-01],\n",
       "       [4.86230165e-01, 4.44376677e-01],\n",
       "       [3.87285084e-01, 6.33247674e-01],\n",
       "       [5.13099551e-01, 2.29224116e-01],\n",
       "       [9.82977331e-01, 9.12817754e-03],\n",
       "       [9.97634470e-01, 2.31034984e-03],\n",
       "       [1.03922673e-01, 9.14176226e-01],\n",
       "       [9.96414542e-01, 3.21451598e-03],\n",
       "       [9.96314943e-01, 3.66966287e-03],\n",
       "       [7.55794466e-01, 1.68518916e-01],\n",
       "       [9.81913507e-01, 1.26279751e-02],\n",
       "       [9.31390524e-01, 5.91718517e-02],\n",
       "       [9.59781945e-01, 4.09492329e-02],\n",
       "       [9.69422579e-01, 2.82873176e-02],\n",
       "       [9.94120359e-01, 3.03765363e-03],\n",
       "       [6.84087157e-01, 2.56966114e-01],\n",
       "       [9.02473867e-01, 7.77671859e-02],\n",
       "       [9.74384665e-01, 3.35552767e-02],\n",
       "       [9.04124022e-01, 1.58145115e-01],\n",
       "       [8.87551665e-01, 1.22137405e-01],\n",
       "       [3.39510500e-01, 8.36310744e-01],\n",
       "       [1.57678146e-02, 9.69518125e-01],\n",
       "       [9.92095351e-01, 2.44963039e-02],\n",
       "       [9.89907503e-01, 1.58293005e-02],\n",
       "       [5.67458987e-01, 5.32903910e-01],\n",
       "       [8.15987766e-01, 9.02454033e-02],\n",
       "       [7.81861603e-01, 2.13071495e-01],\n",
       "       [6.70910418e-01, 2.02971429e-01],\n",
       "       [9.83019352e-01, 1.96192712e-02],\n",
       "       [3.90689313e-01, 4.83606637e-01],\n",
       "       [8.77004087e-01, 8.64102542e-02],\n",
       "       [9.16042984e-01, 5.00307567e-02],\n",
       "       [8.89242411e-01, 1.22086905e-01],\n",
       "       [9.64381278e-01, 1.42740116e-01],\n",
       "       [6.18281662e-01, 4.03135568e-01],\n",
       "       [9.89271104e-01, 1.90929566e-02],\n",
       "       [8.89242411e-01, 1.22086905e-01],\n",
       "       [9.86175239e-01, 2.30696704e-02],\n",
       "       [9.93199348e-01, 1.11350371e-02],\n",
       "       [9.97299790e-01, 3.69687798e-03],\n",
       "       [9.58215296e-01, 3.61473262e-02],\n",
       "       [8.91179979e-01, 1.05020955e-01],\n",
       "       [9.96057868e-01, 2.89911102e-03],\n",
       "       [9.99998152e-01, 8.78481569e-06],\n",
       "       [4.77930039e-01, 4.64319646e-01],\n",
       "       [9.26328719e-01, 3.46504226e-02],\n",
       "       [8.84584606e-01, 2.19103992e-01],\n",
       "       [8.79788220e-01, 1.73079818e-01],\n",
       "       [7.37758458e-01, 1.89681202e-01],\n",
       "       [9.68645751e-01, 2.63891742e-02],\n",
       "       [7.89478600e-01, 4.31941867e-01],\n",
       "       [8.99994552e-01, 5.34914918e-02],\n",
       "       [6.31702185e-01, 2.46503636e-01],\n",
       "       [9.58055913e-01, 2.20602490e-02],\n",
       "       [8.26696932e-01, 1.33740306e-01],\n",
       "       [5.36588371e-01, 5.20288765e-01],\n",
       "       [7.55785108e-01, 3.58701229e-01],\n",
       "       [7.31146812e-01, 1.66327208e-01],\n",
       "       [9.91174638e-01, 5.29251574e-03],\n",
       "       [9.92928147e-01, 9.20011103e-03],\n",
       "       [9.93188798e-01, 5.14290109e-03],\n",
       "       [9.74384665e-01, 3.35552767e-02],\n",
       "       [9.70223129e-01, 2.87956409e-02]], dtype=float32)"
      ]
     },
     "execution_count": 62,
     "metadata": {},
     "output_type": "execute_result"
    }
   ],
   "source": [
    "y_pred"
   ]
  },
  {
   "cell_type": "markdown",
   "metadata": {},
   "source": [
    "Untuk Mengembalikkan index hasil prediksi"
   ]
  },
  {
   "cell_type": "code",
   "execution_count": 63,
   "metadata": {},
   "outputs": [
    {
     "data": {
      "text/plain": [
       "[0, 0, 1, 0, 0, 0, 0, 0, 0, 0]"
      ]
     },
     "execution_count": 63,
     "metadata": {},
     "output_type": "execute_result"
    }
   ],
   "source": [
    "y_predict = np.argmax(y_pred, axis=1).tolist()\n",
    "y_predict[0:10]"
   ]
  },
  {
   "cell_type": "code",
   "execution_count": 64,
   "metadata": {},
   "outputs": [
    {
     "data": {
      "text/plain": [
       "[0, 0, 1, 0, 1, 0, 0, 0, 0, 0]"
      ]
     },
     "execution_count": 64,
     "metadata": {},
     "output_type": "execute_result"
    }
   ],
   "source": [
    "y_aktual = np.argmax(y_test, axis=1).tolist()\n",
    "y_aktual[0:10]"
   ]
  },
  {
   "cell_type": "markdown",
   "metadata": {},
   "source": [
    "Confusion matrixnya"
   ]
  },
  {
   "cell_type": "code",
   "execution_count": 65,
   "metadata": {},
   "outputs": [],
   "source": [
    "cm = confusion_matrix(y_predict, y_aktual)"
   ]
  },
  {
   "cell_type": "code",
   "execution_count": 66,
   "metadata": {},
   "outputs": [
    {
     "name": "stdout",
     "output_type": "stream",
     "text": [
      "[[63 15]\n",
      " [ 4  4]]\n"
     ]
    }
   ],
   "source": [
    "print(cm)"
   ]
  },
  {
   "cell_type": "code",
   "execution_count": 67,
   "metadata": {},
   "outputs": [
    {
     "data": {
      "image/png": "[encoded data removed]",
      "text/plain": [
       "<Figure size 640x480 with 2 Axes>"
      ]
     },
     "metadata": {},
     "output_type": "display_data"
    }
   ],
   "source": [
    "disp = ConfusionMatrixDisplay(confusion_matrix=cm)\n",
    "disp.plot()\n",
    "plt.show()"
   ]
  },
  {
   "cell_type": "markdown",
   "metadata": {},
   "source": [
    "#### Confusion Matrix\n",
    "- 7 false negative\n",
    "- 8 true positive\n",
    "- 57 true negative\n",
    "- 14 false positive"
   ]
  },
  {
   "cell_type": "code",
   "execution_count": 68,
   "metadata": {},
   "outputs": [],
   "source": [
    "from sklearn.metrics import classification_report"
   ]
  },
  {
   "cell_type": "code",
   "execution_count": 69,
   "metadata": {},
   "outputs": [
    {
     "name": "stdout",
     "output_type": "stream",
     "text": [
      "              precision    recall  f1-score   support\n",
      "\n",
      "           0       0.94      0.81      0.87        78\n",
      "           1       0.21      0.50      0.30         8\n",
      "\n",
      "    accuracy                           0.78        86\n",
      "   macro avg       0.58      0.65      0.58        86\n",
      "weighted avg       0.87      0.78      0.82        86\n",
      "\n"
     ]
    }
   ],
   "source": [
    "print(classification_report(y_predict, y_aktual))"
   ]
  },
  {
   "cell_type": "markdown",
   "metadata": {},
   "source": [
    "- Precision dari semua class yang diprediksi positive berapa jumlah yang benar benar positive hasilnya \n",
    "- Recall dari semua class yang positive berapa yang betul betul positive\n",
    "- f1-score nilai tengah rata rata dari precission dan recall "
   ]
  }
 ],
 "metadata": {
  "kernelspec": {
   "display_name": "Python 3.10.7 64-bit",
   "language": "python",
   "name": "python3"
  },
  "language_info": {
   "codemirror_mode": {
    "name": "ipython",
    "version": 3
   },
   "file_extension": ".py",
   "mimetype": "text/x-python",
   "name": "python",
   "nbconvert_exporter": "python",
   "pygments_lexer": "ipython3",
   "version": "3.10.7"
  },
  "orig_nbformat": 4,
  "vscode": {
   "interpreter": {
    "hash": "95cd850a289b5062fab79612406d21593bee7f5cddc2de882acb468a2c4a019d"
   }
  }
 },
 "nbformat": 4,
 "nbformat_minor": 2
}
