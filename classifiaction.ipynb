{
 "cells": [
  {
   "cell_type": "code",
   "execution_count": 95,
   "metadata": {},
   "outputs": [],
   "source": [
    "import pandas as pd\n",
    "import tensorflow as tf\n",
    "import numpy as np\n",
    "import matplotlib.pyplot as plt\n",
    "from sklearn.model_selection import train_test_split\n",
    "from sklearn.preprocessing import StandardScaler\n",
    "from tensorflow.keras.utils import to_categorical"
   ]
  },
  {
   "cell_type": "code",
   "execution_count": 96,
   "metadata": {},
   "outputs": [],
   "source": [
    "df = pd.read_csv(\"breast-cancer.csv.xls\")"
   ]
  },
  {
   "cell_type": "code",
   "execution_count": 97,
   "metadata": {},
   "outputs": [
    {
     "data": {
      "text/html": [
       "<div>\n",
       "<style scoped>\n",
       "    .dataframe tbody tr th:only-of-type {\n",
       "        vertical-align: middle;\n",
       "    }\n",
       "\n",
       "    .dataframe tbody tr th {\n",
       "        vertical-align: top;\n",
       "    }\n",
       "\n",
       "    .dataframe thead th {\n",
       "        text-align: right;\n",
       "    }\n",
       "</style>\n",
       "<table border=\"1\" class=\"dataframe\">\n",
       "  <thead>\n",
       "    <tr style=\"text-align: right;\">\n",
       "      <th></th>\n",
       "      <th>Class</th>\n",
       "      <th>age</th>\n",
       "      <th>menopause</th>\n",
       "      <th>tumor-size</th>\n",
       "      <th>inv-nodes</th>\n",
       "      <th>node-caps</th>\n",
       "      <th>deg-malig</th>\n",
       "      <th>breast</th>\n",
       "      <th>breast-quad</th>\n",
       "      <th>irradiat</th>\n",
       "    </tr>\n",
       "  </thead>\n",
       "  <tbody>\n",
       "    <tr>\n",
       "      <th>0</th>\n",
       "      <td>no-recurrence-events</td>\n",
       "      <td>30-39</td>\n",
       "      <td>premeno</td>\n",
       "      <td>30-34</td>\n",
       "      <td>0-2</td>\n",
       "      <td>no</td>\n",
       "      <td>3</td>\n",
       "      <td>left</td>\n",
       "      <td>left_low</td>\n",
       "      <td>no</td>\n",
       "    </tr>\n",
       "    <tr>\n",
       "      <th>1</th>\n",
       "      <td>no-recurrence-events</td>\n",
       "      <td>40-49</td>\n",
       "      <td>premeno</td>\n",
       "      <td>20-24</td>\n",
       "      <td>0-2</td>\n",
       "      <td>no</td>\n",
       "      <td>2</td>\n",
       "      <td>right</td>\n",
       "      <td>right_up</td>\n",
       "      <td>no</td>\n",
       "    </tr>\n",
       "    <tr>\n",
       "      <th>2</th>\n",
       "      <td>no-recurrence-events</td>\n",
       "      <td>40-49</td>\n",
       "      <td>premeno</td>\n",
       "      <td>20-24</td>\n",
       "      <td>0-2</td>\n",
       "      <td>no</td>\n",
       "      <td>2</td>\n",
       "      <td>left</td>\n",
       "      <td>left_low</td>\n",
       "      <td>no</td>\n",
       "    </tr>\n",
       "    <tr>\n",
       "      <th>3</th>\n",
       "      <td>no-recurrence-events</td>\n",
       "      <td>60-69</td>\n",
       "      <td>ge40</td>\n",
       "      <td>15-19</td>\n",
       "      <td>0-2</td>\n",
       "      <td>no</td>\n",
       "      <td>2</td>\n",
       "      <td>right</td>\n",
       "      <td>left_up</td>\n",
       "      <td>no</td>\n",
       "    </tr>\n",
       "    <tr>\n",
       "      <th>4</th>\n",
       "      <td>no-recurrence-events</td>\n",
       "      <td>40-49</td>\n",
       "      <td>premeno</td>\n",
       "      <td>0-4</td>\n",
       "      <td>0-2</td>\n",
       "      <td>no</td>\n",
       "      <td>2</td>\n",
       "      <td>right</td>\n",
       "      <td>right_low</td>\n",
       "      <td>no</td>\n",
       "    </tr>\n",
       "  </tbody>\n",
       "</table>\n",
       "</div>"
      ],
      "text/plain": [
       "                  Class    age menopause tumor-size inv-nodes node-caps  \\\n",
       "0  no-recurrence-events  30-39   premeno      30-34       0-2        no   \n",
       "1  no-recurrence-events  40-49   premeno      20-24       0-2        no   \n",
       "2  no-recurrence-events  40-49   premeno      20-24       0-2        no   \n",
       "3  no-recurrence-events  60-69      ge40      15-19       0-2        no   \n",
       "4  no-recurrence-events  40-49   premeno        0-4       0-2        no   \n",
       "\n",
       "   deg-malig breast breast-quad irradiat  \n",
       "0          3   left    left_low       no  \n",
       "1          2  right    right_up       no  \n",
       "2          2   left    left_low       no  \n",
       "3          2  right     left_up       no  \n",
       "4          2  right   right_low       no  "
      ]
     },
     "execution_count": 97,
     "metadata": {},
     "output_type": "execute_result"
    }
   ],
   "source": [
    "df.head()"
   ]
  },
  {
   "cell_type": "code",
   "execution_count": 98,
   "metadata": {},
   "outputs": [
    {
     "data": {
      "text/plain": [
       "Class          0\n",
       "age            0\n",
       "menopause      0\n",
       "tumor-size     0\n",
       "inv-nodes      0\n",
       "node-caps      0\n",
       "deg-malig      0\n",
       "breast         0\n",
       "breast-quad    0\n",
       "irradiat       0\n",
       "dtype: int64"
      ]
     },
     "execution_count": 98,
     "metadata": {},
     "output_type": "execute_result"
    }
   ],
   "source": [
    "df.isna().sum()"
   ]
  },
  {
   "cell_type": "code",
   "execution_count": 99,
   "metadata": {},
   "outputs": [
    {
     "data": {
      "text/plain": [
       "0      False\n",
       "1      False\n",
       "2      False\n",
       "3      False\n",
       "4      False\n",
       "       ...  \n",
       "281    False\n",
       "282    False\n",
       "283    False\n",
       "284    False\n",
       "285    False\n",
       "Length: 286, dtype: bool"
      ]
     },
     "execution_count": 99,
     "metadata": {},
     "output_type": "execute_result"
    }
   ],
   "source": [
    "df.duplicated()"
   ]
  },
  {
   "cell_type": "code",
   "execution_count": 100,
   "metadata": {},
   "outputs": [
    {
     "name": "stdout",
     "output_type": "stream",
     "text": [
      "<class 'pandas.core.frame.DataFrame'>\n",
      "RangeIndex: 286 entries, 0 to 285\n",
      "Data columns (total 10 columns):\n",
      " #   Column       Non-Null Count  Dtype \n",
      "---  ------       --------------  ----- \n",
      " 0   Class        286 non-null    object\n",
      " 1   age          286 non-null    object\n",
      " 2   menopause    286 non-null    object\n",
      " 3   tumor-size   286 non-null    object\n",
      " 4   inv-nodes    286 non-null    object\n",
      " 5   node-caps    286 non-null    object\n",
      " 6   deg-malig    286 non-null    int64 \n",
      " 7   breast       286 non-null    object\n",
      " 8   breast-quad  286 non-null    object\n",
      " 9   irradiat     286 non-null    object\n",
      "dtypes: int64(1), object(9)\n",
      "memory usage: 22.5+ KB\n"
     ]
    }
   ],
   "source": [
    "df.info()"
   ]
  },
  {
   "cell_type": "code",
   "execution_count": 101,
   "metadata": {},
   "outputs": [],
   "source": [
    "x = df[['age','menopause','tumor-size','inv-nodes','node-caps','deg-malig','breast','breast-quad']] #Feature\n",
    "y = df[\"irradiat\"] #Target"
   ]
  },
  {
   "cell_type": "markdown",
   "metadata": {},
   "source": [
    "# ENCODING DATA"
   ]
  },
  {
   "cell_type": "code",
   "execution_count": 102,
   "metadata": {},
   "outputs": [],
   "source": [
    "x = pd.get_dummies(x)"
   ]
  },
  {
   "cell_type": "code",
   "execution_count": 103,
   "metadata": {},
   "outputs": [],
   "source": [
    "from sklearn.preprocessing import LabelEncoder"
   ]
  },
  {
   "cell_type": "code",
   "execution_count": 104,
   "metadata": {},
   "outputs": [],
   "source": [
    "O = LabelEncoder()"
   ]
  },
  {
   "cell_type": "code",
   "execution_count": 105,
   "metadata": {},
   "outputs": [],
   "source": [
    "y = O.fit_transform(y)"
   ]
  },
  {
   "cell_type": "markdown",
   "metadata": {},
   "source": [
    "# SPLIT DATA"
   ]
  },
  {
   "cell_type": "code",
   "execution_count": 106,
   "metadata": {},
   "outputs": [],
   "source": [
    "x_train, x_test, y_train, y_test = train_test_split(x, y, test_size=0.3)"
   ]
  },
  {
   "cell_type": "code",
   "execution_count": 107,
   "metadata": {},
   "outputs": [
    {
     "name": "stdout",
     "output_type": "stream",
     "text": [
      "panjang x train : 200\n",
      " panjang y train : 200\n",
      " panjang x test : 86\n",
      " panjang y test : 86\n",
      "\n"
     ]
    }
   ],
   "source": [
    "print(f'panjang x train : {len(x_train)}\\n',\n",
    "f'panjang y train : {len(y_train)}\\n',\n",
    "f'panjang x test : {len(x_test)}\\n',\n",
    "f'panjang y test : {len(y_test)}\\n')"
   ]
  },
  {
   "cell_type": "code",
   "execution_count": 108,
   "metadata": {},
   "outputs": [
    {
     "name": "stdout",
     "output_type": "stream",
     "text": [
      "<class 'pandas.core.frame.DataFrame'>\n",
      "RangeIndex: 286 entries, 0 to 285\n",
      "Data columns (total 39 columns):\n",
      " #   Column                 Non-Null Count  Dtype\n",
      "---  ------                 --------------  -----\n",
      " 0   deg-malig              286 non-null    int64\n",
      " 1   age_20-29              286 non-null    uint8\n",
      " 2   age_30-39              286 non-null    uint8\n",
      " 3   age_40-49              286 non-null    uint8\n",
      " 4   age_50-59              286 non-null    uint8\n",
      " 5   age_60-69              286 non-null    uint8\n",
      " 6   age_70-79              286 non-null    uint8\n",
      " 7   menopause_ge40         286 non-null    uint8\n",
      " 8   menopause_lt40         286 non-null    uint8\n",
      " 9   menopause_premeno      286 non-null    uint8\n",
      " 10  tumor-size_0-4         286 non-null    uint8\n",
      " 11  tumor-size_10-14       286 non-null    uint8\n",
      " 12  tumor-size_15-19       286 non-null    uint8\n",
      " 13  tumor-size_20-24       286 non-null    uint8\n",
      " 14  tumor-size_25-29       286 non-null    uint8\n",
      " 15  tumor-size_30-34       286 non-null    uint8\n",
      " 16  tumor-size_35-39       286 non-null    uint8\n",
      " 17  tumor-size_40-44       286 non-null    uint8\n",
      " 18  tumor-size_45-49       286 non-null    uint8\n",
      " 19  tumor-size_5-9         286 non-null    uint8\n",
      " 20  tumor-size_50-54       286 non-null    uint8\n",
      " 21  inv-nodes_0-2          286 non-null    uint8\n",
      " 22  inv-nodes_12-14        286 non-null    uint8\n",
      " 23  inv-nodes_15-17        286 non-null    uint8\n",
      " 24  inv-nodes_24-26        286 non-null    uint8\n",
      " 25  inv-nodes_3-5          286 non-null    uint8\n",
      " 26  inv-nodes_6-8          286 non-null    uint8\n",
      " 27  inv-nodes_9-11         286 non-null    uint8\n",
      " 28  node-caps_?            286 non-null    uint8\n",
      " 29  node-caps_no           286 non-null    uint8\n",
      " 30  node-caps_yes          286 non-null    uint8\n",
      " 31  breast_left            286 non-null    uint8\n",
      " 32  breast_right           286 non-null    uint8\n",
      " 33  breast-quad_?          286 non-null    uint8\n",
      " 34  breast-quad_central    286 non-null    uint8\n",
      " 35  breast-quad_left_low   286 non-null    uint8\n",
      " 36  breast-quad_left_up    286 non-null    uint8\n",
      " 37  breast-quad_right_low  286 non-null    uint8\n",
      " 38  breast-quad_right_up   286 non-null    uint8\n",
      "dtypes: int64(1), uint8(38)\n",
      "memory usage: 13.0 KB\n"
     ]
    }
   ],
   "source": [
    "x.info()"
   ]
  },
  {
   "cell_type": "markdown",
   "metadata": {},
   "source": [
    "# Data standarisasi"
   ]
  },
  {
   "cell_type": "code",
   "execution_count": 109,
   "metadata": {},
   "outputs": [],
   "source": [
    "ss = StandardScaler()"
   ]
  },
  {
   "cell_type": "code",
   "execution_count": 110,
   "metadata": {},
   "outputs": [],
   "source": [
    "x_scaled_train = ss.fit_transform(x_train)\n",
    "x_scaled_test = ss.fit_transform(x_test)"
   ]
  },
  {
   "cell_type": "code",
   "execution_count": 111,
   "metadata": {},
   "outputs": [],
   "source": [
    "y_train = to_categorical(y_train, 2)\n",
    "y_test = to_categorical(y_test, 2)"
   ]
  },
  {
   "cell_type": "markdown",
   "metadata": {},
   "source": [
    "# MEMBUAT MODEL"
   ]
  },
  {
   "cell_type": "code",
   "execution_count": 112,
   "metadata": {},
   "outputs": [
    {
     "name": "stdout",
     "output_type": "stream",
     "text": [
      "Model: \"sequential_4\"\n",
      "_________________________________________________________________\n",
      " Layer (type)                Output Shape              Param #   \n",
      "=================================================================\n",
      " dense_8 (Dense)             (None, 50)                2000      \n",
      "                                                                 \n",
      " dense_9 (Dense)             (None, 2)                 102       \n",
      "                                                                 \n",
      "=================================================================\n",
      "Total params: 2,102\n",
      "Trainable params: 2,102\n",
      "Non-trainable params: 0\n",
      "_________________________________________________________________\n"
     ]
    }
   ],
   "source": [
    "from tensorflow.keras import Sequential\n",
    "from tensorflow.keras.layers import Dense\n",
    "\n",
    "model = Sequential()\n",
    "\n",
    "#Input Layer\n",
    "model.add(Dense(50, activation='relu', input_dim=39))\n",
    "\n",
    "#Output Layer\n",
    "model.add(Dense(2, activation='sigmoid')) #output layer harus disamakan dengan jumlah class, semakin banyak jumlah neuron semakin kompleks modelnya jadi bisa overfitting\n",
    "\n",
    "model.summary()"
   ]
  },
  {
   "cell_type": "markdown",
   "metadata": {},
   "source": [
    "# Import Library"
   ]
  },
  {
   "cell_type": "code",
   "execution_count": 113,
   "metadata": {},
   "outputs": [],
   "source": [
    "from tensorflow.keras.utils import to_categorical\n",
    "from tensorflow.keras.optimizers import Adam\n",
    "from tensorflow.keras.losses import binary_crossentropy"
   ]
  },
  {
   "cell_type": "markdown",
   "metadata": {},
   "source": [
    "# Mengoptimasi Model"
   ]
  },
  {
   "cell_type": "code",
   "execution_count": 114,
   "metadata": {},
   "outputs": [],
   "source": [
    "# Import the early stopping callback\n",
    "from tensorflow.keras.callbacks import EarlyStopping\n",
    "\n",
    "# Define a callback to monitor val_accuracy\n",
    "monitor_val_acc = EarlyStopping(monitor='accuracy', #dilihat berdasarkan validasi accuracy atau accuracy saja, tetapi monitor hanya bisa memasukkan 1 saja\n",
    "                                patience=20)#jadi jika di 20 epoch selanjutnya itu tidak berubah maka diberentikan\n"
   ]
  },
  {
   "cell_type": "code",
   "execution_count": 115,
   "metadata": {},
   "outputs": [],
   "source": [
    "model.compile(\n",
    "    optimizer=Adam(),\n",
    "    loss = binary_crossentropy,\n",
    "    metrics = ['accuracy']\n",
    ")"
   ]
  },
  {
   "cell_type": "markdown",
   "metadata": {},
   "source": [
    "# Melatih model training"
   ]
  },
  {
   "cell_type": "code",
   "execution_count": 116,
   "metadata": {},
   "outputs": [
    {
     "name": "stdout",
     "output_type": "stream",
     "text": [
      "Epoch 1/120\n",
      "7/7 [==============================] - 1s 32ms/step - loss: 1.0511 - accuracy: 0.2450 - val_loss: 0.9023 - val_accuracy: 0.2907\n",
      "Epoch 2/120\n",
      "7/7 [==============================] - 0s 7ms/step - loss: 0.9381 - accuracy: 0.3000 - val_loss: 0.8247 - val_accuracy: 0.4186\n",
      "Epoch 3/120\n",
      "7/7 [==============================] - 0s 8ms/step - loss: 0.8487 - accuracy: 0.3700 - val_loss: 0.7570 - val_accuracy: 0.5233\n",
      "Epoch 4/120\n",
      "7/7 [==============================] - 0s 9ms/step - loss: 0.7692 - accuracy: 0.5050 - val_loss: 0.7038 - val_accuracy: 0.5814\n",
      "Epoch 5/120\n",
      "7/7 [==============================] - 0s 8ms/step - loss: 0.7038 - accuracy: 0.6450 - val_loss: 0.6601 - val_accuracy: 0.6977\n",
      "Epoch 6/120\n",
      "7/7 [==============================] - 0s 8ms/step - loss: 0.6509 - accuracy: 0.7000 - val_loss: 0.6244 - val_accuracy: 0.7558\n",
      "Epoch 7/120\n",
      "7/7 [==============================] - 0s 7ms/step - loss: 0.6069 - accuracy: 0.7550 - val_loss: 0.5957 - val_accuracy: 0.7907\n",
      "Epoch 8/120\n",
      "7/7 [==============================] - 0s 7ms/step - loss: 0.5678 - accuracy: 0.7950 - val_loss: 0.5719 - val_accuracy: 0.8023\n",
      "Epoch 9/120\n",
      "7/7 [==============================] - 0s 7ms/step - loss: 0.5373 - accuracy: 0.7900 - val_loss: 0.5515 - val_accuracy: 0.8140\n",
      "Epoch 10/120\n",
      "7/7 [==============================] - 0s 8ms/step - loss: 0.5114 - accuracy: 0.8000 - val_loss: 0.5345 - val_accuracy: 0.7907\n",
      "Epoch 11/120\n",
      "7/7 [==============================] - 0s 7ms/step - loss: 0.4890 - accuracy: 0.8000 - val_loss: 0.5213 - val_accuracy: 0.7907\n",
      "Epoch 12/120\n",
      "7/7 [==============================] - 0s 8ms/step - loss: 0.4715 - accuracy: 0.8000 - val_loss: 0.5109 - val_accuracy: 0.7674\n",
      "Epoch 13/120\n",
      "7/7 [==============================] - 0s 7ms/step - loss: 0.4548 - accuracy: 0.8050 - val_loss: 0.5028 - val_accuracy: 0.7907\n",
      "Epoch 14/120\n",
      "7/7 [==============================] - 0s 7ms/step - loss: 0.4422 - accuracy: 0.8200 - val_loss: 0.4947 - val_accuracy: 0.7907\n",
      "Epoch 15/120\n",
      "7/7 [==============================] - 0s 7ms/step - loss: 0.4293 - accuracy: 0.8250 - val_loss: 0.4879 - val_accuracy: 0.7791\n",
      "Epoch 16/120\n",
      "7/7 [==============================] - 0s 7ms/step - loss: 0.4186 - accuracy: 0.8300 - val_loss: 0.4829 - val_accuracy: 0.7791\n",
      "Epoch 17/120\n",
      "7/7 [==============================] - 0s 7ms/step - loss: 0.4099 - accuracy: 0.8300 - val_loss: 0.4791 - val_accuracy: 0.7791\n",
      "Epoch 18/120\n",
      "7/7 [==============================] - 0s 7ms/step - loss: 0.4008 - accuracy: 0.8300 - val_loss: 0.4758 - val_accuracy: 0.7791\n",
      "Epoch 19/120\n",
      "7/7 [==============================] - 0s 7ms/step - loss: 0.3928 - accuracy: 0.8350 - val_loss: 0.4731 - val_accuracy: 0.7791\n",
      "Epoch 20/120\n",
      "7/7 [==============================] - 0s 7ms/step - loss: 0.3860 - accuracy: 0.8400 - val_loss: 0.4717 - val_accuracy: 0.7791\n",
      "Epoch 21/120\n",
      "7/7 [==============================] - 0s 8ms/step - loss: 0.3797 - accuracy: 0.8450 - val_loss: 0.4695 - val_accuracy: 0.7791\n",
      "Epoch 22/120\n",
      "7/7 [==============================] - 0s 7ms/step - loss: 0.3741 - accuracy: 0.8450 - val_loss: 0.4681 - val_accuracy: 0.7907\n",
      "Epoch 23/120\n",
      "7/7 [==============================] - 0s 7ms/step - loss: 0.3685 - accuracy: 0.8450 - val_loss: 0.4674 - val_accuracy: 0.7791\n",
      "Epoch 24/120\n",
      "7/7 [==============================] - 0s 7ms/step - loss: 0.3634 - accuracy: 0.8450 - val_loss: 0.4665 - val_accuracy: 0.7791\n",
      "Epoch 25/120\n",
      "7/7 [==============================] - 0s 7ms/step - loss: 0.3587 - accuracy: 0.8450 - val_loss: 0.4654 - val_accuracy: 0.7674\n",
      "Epoch 26/120\n",
      "7/7 [==============================] - 0s 7ms/step - loss: 0.3543 - accuracy: 0.8500 - val_loss: 0.4644 - val_accuracy: 0.7791\n",
      "Epoch 27/120\n",
      "7/7 [==============================] - 0s 8ms/step - loss: 0.3502 - accuracy: 0.8550 - val_loss: 0.4640 - val_accuracy: 0.7791\n",
      "Epoch 28/120\n",
      "7/7 [==============================] - 0s 7ms/step - loss: 0.3457 - accuracy: 0.8550 - val_loss: 0.4644 - val_accuracy: 0.7791\n",
      "Epoch 29/120\n",
      "7/7 [==============================] - 0s 7ms/step - loss: 0.3420 - accuracy: 0.8550 - val_loss: 0.4641 - val_accuracy: 0.7791\n",
      "Epoch 30/120\n",
      "7/7 [==============================] - 0s 7ms/step - loss: 0.3384 - accuracy: 0.8600 - val_loss: 0.4638 - val_accuracy: 0.7791\n",
      "Epoch 31/120\n",
      "7/7 [==============================] - 0s 7ms/step - loss: 0.3342 - accuracy: 0.8650 - val_loss: 0.4646 - val_accuracy: 0.7907\n",
      "Epoch 32/120\n",
      "7/7 [==============================] - 0s 7ms/step - loss: 0.3316 - accuracy: 0.8650 - val_loss: 0.4651 - val_accuracy: 0.7791\n",
      "Epoch 33/120\n",
      "7/7 [==============================] - 0s 7ms/step - loss: 0.3283 - accuracy: 0.8650 - val_loss: 0.4657 - val_accuracy: 0.7674\n",
      "Epoch 34/120\n",
      "7/7 [==============================] - 0s 7ms/step - loss: 0.3252 - accuracy: 0.8700 - val_loss: 0.4662 - val_accuracy: 0.7791\n",
      "Epoch 35/120\n",
      "7/7 [==============================] - 0s 7ms/step - loss: 0.3223 - accuracy: 0.8700 - val_loss: 0.4672 - val_accuracy: 0.7791\n",
      "Epoch 36/120\n",
      "7/7 [==============================] - 0s 7ms/step - loss: 0.3194 - accuracy: 0.8700 - val_loss: 0.4669 - val_accuracy: 0.7674\n",
      "Epoch 37/120\n",
      "7/7 [==============================] - 0s 7ms/step - loss: 0.3163 - accuracy: 0.8700 - val_loss: 0.4674 - val_accuracy: 0.7674\n",
      "Epoch 38/120\n",
      "7/7 [==============================] - 0s 7ms/step - loss: 0.3136 - accuracy: 0.8750 - val_loss: 0.4682 - val_accuracy: 0.7674\n",
      "Epoch 39/120\n",
      "7/7 [==============================] - 0s 7ms/step - loss: 0.3112 - accuracy: 0.8750 - val_loss: 0.4682 - val_accuracy: 0.7674\n",
      "Epoch 40/120\n",
      "7/7 [==============================] - 0s 7ms/step - loss: 0.3075 - accuracy: 0.8850 - val_loss: 0.4686 - val_accuracy: 0.7674\n",
      "Epoch 41/120\n",
      "7/7 [==============================] - 0s 7ms/step - loss: 0.3050 - accuracy: 0.8850 - val_loss: 0.4693 - val_accuracy: 0.7674\n",
      "Epoch 42/120\n",
      "7/7 [==============================] - 0s 8ms/step - loss: 0.3028 - accuracy: 0.8850 - val_loss: 0.4719 - val_accuracy: 0.7791\n",
      "Epoch 43/120\n",
      "7/7 [==============================] - 0s 8ms/step - loss: 0.2999 - accuracy: 0.8850 - val_loss: 0.4731 - val_accuracy: 0.7791\n",
      "Epoch 44/120\n",
      "7/7 [==============================] - 0s 8ms/step - loss: 0.2974 - accuracy: 0.8850 - val_loss: 0.4742 - val_accuracy: 0.7674\n",
      "Epoch 45/120\n",
      "7/7 [==============================] - 0s 12ms/step - loss: 0.2947 - accuracy: 0.8850 - val_loss: 0.4752 - val_accuracy: 0.7791\n",
      "Epoch 46/120\n",
      "7/7 [==============================] - 0s 11ms/step - loss: 0.2926 - accuracy: 0.8850 - val_loss: 0.4759 - val_accuracy: 0.7791\n",
      "Epoch 47/120\n",
      "7/7 [==============================] - 0s 9ms/step - loss: 0.2899 - accuracy: 0.8950 - val_loss: 0.4774 - val_accuracy: 0.7791\n",
      "Epoch 48/120\n",
      "7/7 [==============================] - 0s 6ms/step - loss: 0.2874 - accuracy: 0.8950 - val_loss: 0.4784 - val_accuracy: 0.7674\n",
      "Epoch 49/120\n",
      "7/7 [==============================] - 0s 7ms/step - loss: 0.2856 - accuracy: 0.8850 - val_loss: 0.4787 - val_accuracy: 0.7674\n",
      "Epoch 50/120\n",
      "7/7 [==============================] - 0s 7ms/step - loss: 0.2825 - accuracy: 0.8900 - val_loss: 0.4782 - val_accuracy: 0.7674\n",
      "Epoch 51/120\n",
      "7/7 [==============================] - 0s 7ms/step - loss: 0.2802 - accuracy: 0.8950 - val_loss: 0.4783 - val_accuracy: 0.7674\n",
      "Epoch 52/120\n",
      "7/7 [==============================] - 0s 9ms/step - loss: 0.2783 - accuracy: 0.8900 - val_loss: 0.4785 - val_accuracy: 0.7674\n",
      "Epoch 53/120\n",
      "7/7 [==============================] - 0s 12ms/step - loss: 0.2766 - accuracy: 0.8900 - val_loss: 0.4785 - val_accuracy: 0.7674\n",
      "Epoch 54/120\n",
      "7/7 [==============================] - 0s 10ms/step - loss: 0.2740 - accuracy: 0.8950 - val_loss: 0.4798 - val_accuracy: 0.7674\n",
      "Epoch 55/120\n",
      "7/7 [==============================] - 0s 7ms/step - loss: 0.2713 - accuracy: 0.8900 - val_loss: 0.4808 - val_accuracy: 0.7674\n",
      "Epoch 56/120\n",
      "7/7 [==============================] - 0s 7ms/step - loss: 0.2691 - accuracy: 0.8900 - val_loss: 0.4814 - val_accuracy: 0.7674\n",
      "Epoch 57/120\n",
      "7/7 [==============================] - 0s 7ms/step - loss: 0.2671 - accuracy: 0.8900 - val_loss: 0.4825 - val_accuracy: 0.7674\n",
      "Epoch 58/120\n",
      "7/7 [==============================] - 0s 8ms/step - loss: 0.2653 - accuracy: 0.8950 - val_loss: 0.4826 - val_accuracy: 0.7674\n",
      "Epoch 59/120\n",
      "7/7 [==============================] - 0s 11ms/step - loss: 0.2632 - accuracy: 0.8950 - val_loss: 0.4827 - val_accuracy: 0.7674\n",
      "Epoch 60/120\n",
      "7/7 [==============================] - 0s 11ms/step - loss: 0.2606 - accuracy: 0.9000 - val_loss: 0.4844 - val_accuracy: 0.7674\n",
      "Epoch 61/120\n",
      "7/7 [==============================] - 0s 10ms/step - loss: 0.2587 - accuracy: 0.9000 - val_loss: 0.4863 - val_accuracy: 0.7674\n",
      "Epoch 62/120\n",
      "7/7 [==============================] - 0s 8ms/step - loss: 0.2563 - accuracy: 0.9000 - val_loss: 0.4881 - val_accuracy: 0.7674\n",
      "Epoch 63/120\n",
      "7/7 [==============================] - 0s 8ms/step - loss: 0.2542 - accuracy: 0.9000 - val_loss: 0.4898 - val_accuracy: 0.7674\n",
      "Epoch 64/120\n",
      "7/7 [==============================] - 0s 11ms/step - loss: 0.2522 - accuracy: 0.9100 - val_loss: 0.4908 - val_accuracy: 0.7674\n",
      "Epoch 65/120\n",
      "7/7 [==============================] - 0s 11ms/step - loss: 0.2508 - accuracy: 0.9100 - val_loss: 0.4901 - val_accuracy: 0.7674\n",
      "Epoch 66/120\n",
      "7/7 [==============================] - 0s 15ms/step - loss: 0.2482 - accuracy: 0.9100 - val_loss: 0.4902 - val_accuracy: 0.7674\n",
      "Epoch 67/120\n",
      "7/7 [==============================] - 0s 10ms/step - loss: 0.2463 - accuracy: 0.9050 - val_loss: 0.4916 - val_accuracy: 0.7674\n",
      "Epoch 68/120\n",
      "7/7 [==============================] - 0s 9ms/step - loss: 0.2444 - accuracy: 0.9000 - val_loss: 0.4930 - val_accuracy: 0.7674\n",
      "Epoch 69/120\n",
      "7/7 [==============================] - 0s 11ms/step - loss: 0.2427 - accuracy: 0.9050 - val_loss: 0.4956 - val_accuracy: 0.7674\n",
      "Epoch 70/120\n",
      "7/7 [==============================] - 0s 15ms/step - loss: 0.2407 - accuracy: 0.9050 - val_loss: 0.4967 - val_accuracy: 0.7674\n",
      "Epoch 71/120\n",
      "7/7 [==============================] - 0s 10ms/step - loss: 0.2391 - accuracy: 0.9050 - val_loss: 0.4984 - val_accuracy: 0.7674\n",
      "Epoch 72/120\n",
      "7/7 [==============================] - 0s 9ms/step - loss: 0.2372 - accuracy: 0.9050 - val_loss: 0.4997 - val_accuracy: 0.7674\n",
      "Epoch 73/120\n",
      "7/7 [==============================] - 0s 7ms/step - loss: 0.2351 - accuracy: 0.9050 - val_loss: 0.5020 - val_accuracy: 0.7674\n",
      "Epoch 74/120\n",
      "7/7 [==============================] - 0s 8ms/step - loss: 0.2335 - accuracy: 0.9050 - val_loss: 0.5050 - val_accuracy: 0.7674\n",
      "Epoch 75/120\n",
      "7/7 [==============================] - 0s 8ms/step - loss: 0.2315 - accuracy: 0.9050 - val_loss: 0.5067 - val_accuracy: 0.7674\n",
      "Epoch 76/120\n",
      "7/7 [==============================] - 0s 11ms/step - loss: 0.2299 - accuracy: 0.9100 - val_loss: 0.5083 - val_accuracy: 0.7674\n",
      "Epoch 77/120\n",
      "7/7 [==============================] - 0s 13ms/step - loss: 0.2279 - accuracy: 0.9100 - val_loss: 0.5099 - val_accuracy: 0.7674\n",
      "Epoch 78/120\n",
      "7/7 [==============================] - 0s 9ms/step - loss: 0.2260 - accuracy: 0.9150 - val_loss: 0.5123 - val_accuracy: 0.7674\n",
      "Epoch 79/120\n",
      "7/7 [==============================] - 0s 7ms/step - loss: 0.2242 - accuracy: 0.9150 - val_loss: 0.5143 - val_accuracy: 0.7674\n",
      "Epoch 80/120\n",
      "7/7 [==============================] - 0s 8ms/step - loss: 0.2223 - accuracy: 0.9150 - val_loss: 0.5156 - val_accuracy: 0.7674\n",
      "Epoch 81/120\n",
      "7/7 [==============================] - 0s 8ms/step - loss: 0.2207 - accuracy: 0.9150 - val_loss: 0.5176 - val_accuracy: 0.7674\n",
      "Epoch 82/120\n",
      "7/7 [==============================] - 0s 18ms/step - loss: 0.2188 - accuracy: 0.9200 - val_loss: 0.5189 - val_accuracy: 0.7674\n",
      "Epoch 83/120\n",
      "7/7 [==============================] - 0s 12ms/step - loss: 0.2174 - accuracy: 0.9200 - val_loss: 0.5189 - val_accuracy: 0.7674\n",
      "Epoch 84/120\n",
      "7/7 [==============================] - 0s 8ms/step - loss: 0.2153 - accuracy: 0.9200 - val_loss: 0.5196 - val_accuracy: 0.7674\n",
      "Epoch 85/120\n",
      "7/7 [==============================] - 0s 8ms/step - loss: 0.2133 - accuracy: 0.9200 - val_loss: 0.5209 - val_accuracy: 0.7674\n",
      "Epoch 86/120\n",
      "7/7 [==============================] - 0s 8ms/step - loss: 0.2117 - accuracy: 0.9200 - val_loss: 0.5215 - val_accuracy: 0.7674\n",
      "Epoch 87/120\n",
      "7/7 [==============================] - 0s 9ms/step - loss: 0.2102 - accuracy: 0.9250 - val_loss: 0.5234 - val_accuracy: 0.7791\n",
      "Epoch 88/120\n",
      "7/7 [==============================] - 0s 22ms/step - loss: 0.2086 - accuracy: 0.9250 - val_loss: 0.5252 - val_accuracy: 0.7674\n",
      "Epoch 89/120\n",
      "7/7 [==============================] - 0s 11ms/step - loss: 0.2073 - accuracy: 0.9350 - val_loss: 0.5256 - val_accuracy: 0.7674\n",
      "Epoch 90/120\n",
      "7/7 [==============================] - 0s 7ms/step - loss: 0.2056 - accuracy: 0.9350 - val_loss: 0.5262 - val_accuracy: 0.7674\n",
      "Epoch 91/120\n",
      "7/7 [==============================] - 0s 6ms/step - loss: 0.2036 - accuracy: 0.9350 - val_loss: 0.5269 - val_accuracy: 0.7558\n",
      "Epoch 92/120\n",
      "7/7 [==============================] - 0s 8ms/step - loss: 0.2018 - accuracy: 0.9350 - val_loss: 0.5277 - val_accuracy: 0.7558\n",
      "Epoch 93/120\n",
      "7/7 [==============================] - 0s 12ms/step - loss: 0.2006 - accuracy: 0.9350 - val_loss: 0.5297 - val_accuracy: 0.7674\n",
      "Epoch 94/120\n",
      "7/7 [==============================] - 0s 9ms/step - loss: 0.1992 - accuracy: 0.9350 - val_loss: 0.5315 - val_accuracy: 0.7674\n",
      "Epoch 95/120\n",
      "7/7 [==============================] - 0s 8ms/step - loss: 0.1973 - accuracy: 0.9300 - val_loss: 0.5331 - val_accuracy: 0.7558\n",
      "Epoch 96/120\n",
      "7/7 [==============================] - 0s 14ms/step - loss: 0.1966 - accuracy: 0.9350 - val_loss: 0.5350 - val_accuracy: 0.7558\n",
      "Epoch 97/120\n",
      "7/7 [==============================] - 0s 10ms/step - loss: 0.1947 - accuracy: 0.9350 - val_loss: 0.5366 - val_accuracy: 0.7558\n",
      "Epoch 98/120\n",
      "7/7 [==============================] - 0s 8ms/step - loss: 0.1933 - accuracy: 0.9300 - val_loss: 0.5373 - val_accuracy: 0.7558\n",
      "Epoch 99/120\n",
      "7/7 [==============================] - 0s 7ms/step - loss: 0.1919 - accuracy: 0.9250 - val_loss: 0.5386 - val_accuracy: 0.7558\n",
      "Epoch 100/120\n",
      "7/7 [==============================] - 0s 7ms/step - loss: 0.1902 - accuracy: 0.9250 - val_loss: 0.5401 - val_accuracy: 0.7558\n",
      "Epoch 101/120\n",
      "7/7 [==============================] - 0s 7ms/step - loss: 0.1886 - accuracy: 0.9300 - val_loss: 0.5423 - val_accuracy: 0.7558\n",
      "Epoch 102/120\n",
      "7/7 [==============================] - 0s 8ms/step - loss: 0.1873 - accuracy: 0.9300 - val_loss: 0.5434 - val_accuracy: 0.7558\n",
      "Epoch 103/120\n",
      "7/7 [==============================] - 0s 7ms/step - loss: 0.1854 - accuracy: 0.9300 - val_loss: 0.5457 - val_accuracy: 0.7558\n",
      "Epoch 104/120\n",
      "7/7 [==============================] - 0s 6ms/step - loss: 0.1846 - accuracy: 0.9300 - val_loss: 0.5469 - val_accuracy: 0.7674\n",
      "Epoch 105/120\n",
      "7/7 [==============================] - 0s 7ms/step - loss: 0.1833 - accuracy: 0.9300 - val_loss: 0.5477 - val_accuracy: 0.7558\n",
      "Epoch 106/120\n",
      "7/7 [==============================] - 0s 7ms/step - loss: 0.1816 - accuracy: 0.9350 - val_loss: 0.5494 - val_accuracy: 0.7558\n",
      "Epoch 107/120\n",
      "7/7 [==============================] - 0s 7ms/step - loss: 0.1800 - accuracy: 0.9350 - val_loss: 0.5498 - val_accuracy: 0.7558\n",
      "Epoch 108/120\n",
      "7/7 [==============================] - 0s 8ms/step - loss: 0.1790 - accuracy: 0.9350 - val_loss: 0.5493 - val_accuracy: 0.7674\n",
      "Epoch 109/120\n",
      "7/7 [==============================] - 0s 7ms/step - loss: 0.1776 - accuracy: 0.9450 - val_loss: 0.5512 - val_accuracy: 0.7674\n",
      "Epoch 110/120\n",
      "7/7 [==============================] - 0s 8ms/step - loss: 0.1761 - accuracy: 0.9450 - val_loss: 0.5526 - val_accuracy: 0.7674\n",
      "Epoch 111/120\n",
      "7/7 [==============================] - 0s 10ms/step - loss: 0.1747 - accuracy: 0.9450 - val_loss: 0.5530 - val_accuracy: 0.7674\n",
      "Epoch 112/120\n",
      "7/7 [==============================] - 0s 6ms/step - loss: 0.1735 - accuracy: 0.9400 - val_loss: 0.5538 - val_accuracy: 0.7674\n",
      "Epoch 113/120\n",
      "7/7 [==============================] - 0s 7ms/step - loss: 0.1720 - accuracy: 0.9400 - val_loss: 0.5547 - val_accuracy: 0.7674\n",
      "Epoch 114/120\n",
      "7/7 [==============================] - 0s 9ms/step - loss: 0.1709 - accuracy: 0.9450 - val_loss: 0.5563 - val_accuracy: 0.7674\n",
      "Epoch 115/120\n",
      "7/7 [==============================] - 0s 8ms/step - loss: 0.1697 - accuracy: 0.9450 - val_loss: 0.5580 - val_accuracy: 0.7674\n",
      "Epoch 116/120\n",
      "7/7 [==============================] - 0s 10ms/step - loss: 0.1685 - accuracy: 0.9450 - val_loss: 0.5603 - val_accuracy: 0.7674\n",
      "Epoch 117/120\n",
      "7/7 [==============================] - 0s 7ms/step - loss: 0.1670 - accuracy: 0.9400 - val_loss: 0.5615 - val_accuracy: 0.7558\n",
      "Epoch 118/120\n",
      "7/7 [==============================] - 0s 8ms/step - loss: 0.1659 - accuracy: 0.9450 - val_loss: 0.5625 - val_accuracy: 0.7558\n",
      "Epoch 119/120\n",
      "7/7 [==============================] - 0s 9ms/step - loss: 0.1647 - accuracy: 0.9500 - val_loss: 0.5644 - val_accuracy: 0.7558\n",
      "Epoch 120/120\n",
      "7/7 [==============================] - 0s 7ms/step - loss: 0.1638 - accuracy: 0.9450 - val_loss: 0.5669 - val_accuracy: 0.7558\n"
     ]
    }
   ],
   "source": [
    "history = model.fit(\n",
    "    x = x_scaled_train, \n",
    "    y = y_train,\n",
    "    validation_data=(x_scaled_test,y_test),\n",
    "    epochs=120,\n",
    "    verbose=1,\n",
    "    callbacks=[monitor_val_acc]\n",
    ")"
   ]
  },
  {
   "cell_type": "code",
   "execution_count": 117,
   "metadata": {},
   "outputs": [
    {
     "name": "stdout",
     "output_type": "stream",
     "text": [
      "3/3 [==============================] - 0s 2ms/step - loss: 0.5669 - accuracy: 0.7558\n"
     ]
    },
    {
     "data": {
      "text/plain": [
       "[0.5669370889663696, 0.7558139562606812]"
      ]
     },
     "execution_count": 117,
     "metadata": {},
     "output_type": "execute_result"
    }
   ],
   "source": [
    "model.evaluate(x_scaled_test,y_test)"
   ]
  },
  {
   "cell_type": "markdown",
   "metadata": {},
   "source": [
    "# Visualisasi"
   ]
  },
  {
   "cell_type": "code",
   "execution_count": 118,
   "metadata": {},
   "outputs": [
    {
     "data": {
      "image/png": "[encoded data removed]",
      "text/plain": [
       "<Figure size 500x500 with 1 Axes>"
      ]
     },
     "metadata": {},
     "output_type": "display_data"
    }
   ],
   "source": [
    "plt.figure(1, figsize=(5,5))\n",
    "plt.plot(range(len(history.history['accuracy'])), \n",
    "         history.history['accuracy'],\n",
    "         label='training')\n",
    "plt.plot(range(len(history.history['val_accuracy'])), \n",
    "         history.history['val_accuracy'],\n",
    "         label='validation')\n",
    "plt.legend()\n",
    "plt.show()"
   ]
  },
  {
   "cell_type": "code",
   "execution_count": 153,
   "metadata": {},
   "outputs": [],
   "source": [
    "from sklearn.metrics import ConfusionMatrixDisplay\n",
    "from sklearn.metrics import confusion_matrix"
   ]
  },
  {
   "cell_type": "code",
   "execution_count": 140,
   "metadata": {},
   "outputs": [
    {
     "name": "stdout",
     "output_type": "stream",
     "text": [
      "3/3 [==============================] - 0s 1ms/step\n"
     ]
    }
   ],
   "source": [
    "y_pred = model.predict(x_scaled_test)"
   ]
  },
  {
   "cell_type": "markdown",
   "metadata": {},
   "source": [
    "Hasil Probabilitas\n",
    "- jika lebih besar kiri maka mengembalikan 0 \n",
    "- jika lbeih besar kanan mengembalikan 1"
   ]
  },
  {
   "cell_type": "code",
   "execution_count": 156,
   "metadata": {},
   "outputs": [
    {
     "data": {
      "text/plain": [
       "array([[8.1526917e-01, 8.8798493e-02],\n",
       "       [9.9729502e-01, 4.3035971e-04],\n",
       "       [8.9035869e-01, 1.2371157e-01],\n",
       "       [6.2873816e-01, 3.3290777e-01],\n",
       "       [9.6292126e-01, 4.7819145e-02],\n",
       "       [9.9146295e-01, 4.5046946e-03],\n",
       "       [5.6098998e-01, 2.7844447e-01],\n",
       "       [1.3712789e-01, 7.9322153e-01],\n",
       "       [9.9968457e-01, 1.2401780e-03],\n",
       "       [9.9636310e-01, 3.4121710e-03],\n",
       "       [2.0514296e-01, 7.2804368e-01],\n",
       "       [7.1697962e-01, 2.4537072e-01],\n",
       "       [2.3858772e-01, 7.1611249e-01],\n",
       "       [8.2753770e-02, 8.7283570e-01],\n",
       "       [9.8307902e-01, 7.7994736e-03],\n",
       "       [9.9798208e-01, 1.6267040e-03],\n",
       "       [5.1872915e-01, 5.2261513e-01],\n",
       "       [7.4472629e-02, 9.5514804e-01],\n",
       "       [9.7516382e-01, 1.2642133e-02],\n",
       "       [9.9913061e-01, 2.4966491e-04],\n",
       "       [5.5286276e-01, 4.8214716e-01],\n",
       "       [7.4150312e-01, 3.2015577e-01],\n",
       "       [9.3778962e-01, 2.1150900e-02],\n",
       "       [8.7069583e-01, 1.5270083e-01],\n",
       "       [9.9324965e-01, 4.4825887e-03],\n",
       "       [7.3460862e-02, 9.8602778e-01],\n",
       "       [6.7897391e-01, 3.0799577e-01],\n",
       "       [9.9171531e-01, 7.2234874e-03],\n",
       "       [9.7638875e-01, 2.9717840e-02],\n",
       "       [7.5731909e-01, 2.7750856e-01],\n",
       "       [7.9662997e-01, 2.4040934e-01],\n",
       "       [2.2974356e-01, 7.9004496e-01],\n",
       "       [9.0435535e-01, 4.1969266e-02],\n",
       "       [6.8591142e-01, 3.2771903e-01],\n",
       "       [9.7808546e-01, 2.4937361e-02],\n",
       "       [6.6880220e-01, 2.6163822e-01],\n",
       "       [9.9378836e-01, 4.9302010e-03],\n",
       "       [9.7092956e-01, 2.3059634e-02],\n",
       "       [1.2356327e-03, 9.9823290e-01],\n",
       "       [9.7061163e-01, 2.0879025e-02],\n",
       "       [7.0182651e-01, 3.3749011e-01],\n",
       "       [9.7687650e-01, 8.4682470e-03],\n",
       "       [9.2593497e-01, 3.7516762e-02],\n",
       "       [9.8260128e-01, 5.3241593e-03],\n",
       "       [8.4213686e-01, 1.1095215e-01],\n",
       "       [9.8526299e-01, 1.9737117e-02],\n",
       "       [7.1800274e-01, 3.5165375e-01],\n",
       "       [8.8866776e-01, 1.6326213e-01],\n",
       "       [9.1928750e-01, 4.8602983e-02],\n",
       "       [3.0535996e-01, 7.5170898e-01],\n",
       "       [2.3529153e-02, 9.9191397e-01],\n",
       "       [2.4967168e-01, 7.2933125e-01],\n",
       "       [9.8408717e-01, 1.7757822e-02],\n",
       "       [6.9179702e-01, 3.9569476e-01],\n",
       "       [9.5130998e-01, 3.2060321e-02],\n",
       "       [9.9047577e-01, 7.0432466e-03],\n",
       "       [7.5696719e-01, 3.7241006e-01],\n",
       "       [9.5694244e-01, 1.1856206e-01],\n",
       "       [7.2449821e-01, 2.8953195e-01],\n",
       "       [9.4494021e-01, 5.1679201e-02],\n",
       "       [8.1936014e-01, 1.6635907e-01],\n",
       "       [9.0860337e-01, 7.0474125e-02],\n",
       "       [9.9074048e-01, 4.7717066e-03],\n",
       "       [7.3285627e-01, 1.3864951e-01],\n",
       "       [9.7470069e-01, 7.8519732e-03],\n",
       "       [9.8395813e-01, 1.5008445e-02],\n",
       "       [8.7376195e-01, 1.1572397e-01],\n",
       "       [9.4494021e-01, 5.1679201e-02],\n",
       "       [7.7216744e-01, 1.4647780e-01],\n",
       "       [9.1208255e-01, 1.0402927e-01],\n",
       "       [3.7122723e-02, 9.7835076e-01],\n",
       "       [6.0912544e-01, 5.3438520e-01],\n",
       "       [8.1207538e-01, 2.6133978e-01],\n",
       "       [9.3074757e-01, 2.1671850e-02],\n",
       "       [9.7366369e-01, 1.8134773e-02],\n",
       "       [7.2824681e-01, 5.4174376e-01],\n",
       "       [9.9117559e-01, 6.5770792e-03],\n",
       "       [9.9935192e-01, 8.3800656e-04],\n",
       "       [9.9745983e-01, 4.3373983e-03],\n",
       "       [1.8123445e-01, 8.2570565e-01],\n",
       "       [9.6226048e-01, 9.1451248e-03],\n",
       "       [4.9557000e-01, 4.9639359e-01],\n",
       "       [9.7374755e-01, 3.0760430e-02],\n",
       "       [9.9383986e-01, 2.2267036e-03],\n",
       "       [8.8085544e-01, 1.4497413e-01],\n",
       "       [9.9890757e-01, 1.8945291e-03]], dtype=float32)"
      ]
     },
     "execution_count": 156,
     "metadata": {},
     "output_type": "execute_result"
    }
   ],
   "source": [
    "y_pred"
   ]
  },
  {
   "cell_type": "markdown",
   "metadata": {},
   "source": [
    "Untuk Mengembalikkan index hasil prediksi"
   ]
  },
  {
   "cell_type": "code",
   "execution_count": 157,
   "metadata": {},
   "outputs": [
    {
     "data": {
      "text/plain": [
       "[0, 0, 0, 0, 0, 0, 0, 1, 0, 0]"
      ]
     },
     "execution_count": 157,
     "metadata": {},
     "output_type": "execute_result"
    }
   ],
   "source": [
    "y_predict = np.argmax(y_pred, axis=1).tolist()\n",
    "y_predict[0:10]"
   ]
  },
  {
   "cell_type": "code",
   "execution_count": 161,
   "metadata": {},
   "outputs": [
    {
     "data": {
      "text/plain": [
       "[0, 0, 0, 1, 0, 0, 1, 0, 0, 0]"
      ]
     },
     "execution_count": 161,
     "metadata": {},
     "output_type": "execute_result"
    }
   ],
   "source": [
    "y_aktual = np.argmax(y_test, axis=1).tolist()\n",
    "y_aktual[0:10]"
   ]
  },
  {
   "cell_type": "markdown",
   "metadata": {},
   "source": [
    "Confusion matrixnya"
   ]
  },
  {
   "cell_type": "code",
   "execution_count": 151,
   "metadata": {},
   "outputs": [],
   "source": [
    "cm = confusion_matrix(y_predict, y_aktual)"
   ]
  },
  {
   "cell_type": "code",
   "execution_count": 152,
   "metadata": {},
   "outputs": [
    {
     "name": "stdout",
     "output_type": "stream",
     "text": [
      "[[57 14]\n",
      " [ 7  8]]\n"
     ]
    }
   ],
   "source": [
    "print(cm)"
   ]
  },
  {
   "cell_type": "code",
   "execution_count": 155,
   "metadata": {},
   "outputs": [
    {
     "data": {
      "image/png": "[encoded data removed]",
      "text/plain": [
       "<Figure size 640x480 with 2 Axes>"
      ]
     },
     "metadata": {},
     "output_type": "display_data"
    }
   ],
   "source": [
    "disp = ConfusionMatrixDisplay(confusion_matrix=cm)\n",
    "disp.plot()\n",
    "plt.show()"
   ]
  },
  {
   "cell_type": "markdown",
   "metadata": {},
   "source": [
    "#### Confusion Matrix\n",
    "- 7 false negative\n",
    "- 8 true positive\n",
    "- 57 true negative\n",
    "- 14 false positive"
   ]
  },
  {
   "cell_type": "code",
   "execution_count": 162,
   "metadata": {},
   "outputs": [],
   "source": [
    "from sklearn.metrics import classification_report"
   ]
  },
  {
   "cell_type": "code",
   "execution_count": 164,
   "metadata": {},
   "outputs": [
    {
     "name": "stdout",
     "output_type": "stream",
     "text": [
      "              precision    recall  f1-score   support\n",
      "\n",
      "           0       0.89      0.80      0.84        71\n",
      "           1       0.36      0.53      0.43        15\n",
      "\n",
      "    accuracy                           0.76        86\n",
      "   macro avg       0.63      0.67      0.64        86\n",
      "weighted avg       0.80      0.76      0.77        86\n",
      "\n"
     ]
    }
   ],
   "source": [
    "print(classification_report(y_predict, y_aktual))"
   ]
  },
  {
   "cell_type": "markdown",
   "metadata": {},
   "source": [
    "- Precision dari semua class yang diprediksi positive berapa jumlah yang benar benar positive hasilnya \n",
    "- Recall dari semua class yang positive berapa yang betul betul positive\n",
    "- f1-score nilai tengah rata rata dari precission dan recall "
   ]
  }
 ],
 "metadata": {
  "kernelspec": {
   "display_name": "Python 3.10.7 64-bit",
   "language": "python",
   "name": "python3"
  },
  "language_info": {
   "codemirror_mode": {
    "name": "ipython",
    "version": 3
   },
   "file_extension": ".py",
   "mimetype": "text/x-python",
   "name": "python",
   "nbconvert_exporter": "python",
   "pygments_lexer": "ipython3",
   "version": "3.10.7"
  },
  "orig_nbformat": 4,
  "vscode": {
   "interpreter": {
    "hash": "95cd850a289b5062fab79612406d21593bee7f5cddc2de882acb468a2c4a019d"
   }
  }
 },
 "nbformat": 4,
 "nbformat_minor": 2
}
