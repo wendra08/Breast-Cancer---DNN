{
 "cells": [
  {
   "cell_type": "code",
   "execution_count": 70,
   "metadata": {},
   "outputs": [],
   "source": [
    "import pandas as pd\n",
    "import tensorflow as tf\n",
    "import numpy as np\n",
    "import matplotlib.pyplot as plt\n",
    "from sklearn.model_selection import train_test_split\n",
    "from sklearn.preprocessing import StandardScaler\n",
    "from keras.utils import to_categorical"
   ]
  },
  {
   "cell_type": "code",
   "execution_count": 71,
   "metadata": {},
   "outputs": [],
   "source": [
    "df = pd.read_csv(\"breast-cancer.csv.xls\")"
   ]
  },
  {
   "cell_type": "code",
   "execution_count": 72,
   "metadata": {},
   "outputs": [
    {
     "data": {
      "text/html": [
       "<div>\n",
       "<style scoped>\n",
       "    .dataframe tbody tr th:only-of-type {\n",
       "        vertical-align: middle;\n",
       "    }\n",
       "\n",
       "    .dataframe tbody tr th {\n",
       "        vertical-align: top;\n",
       "    }\n",
       "\n",
       "    .dataframe thead th {\n",
       "        text-align: right;\n",
       "    }\n",
       "</style>\n",
       "<table border=\"1\" class=\"dataframe\">\n",
       "  <thead>\n",
       "    <tr style=\"text-align: right;\">\n",
       "      <th></th>\n",
       "      <th>Class</th>\n",
       "      <th>age</th>\n",
       "      <th>menopause</th>\n",
       "      <th>tumor-size</th>\n",
       "      <th>inv-nodes</th>\n",
       "      <th>node-caps</th>\n",
       "      <th>deg-malig</th>\n",
       "      <th>breast</th>\n",
       "      <th>breast-quad</th>\n",
       "      <th>irradiat</th>\n",
       "    </tr>\n",
       "  </thead>\n",
       "  <tbody>\n",
       "    <tr>\n",
       "      <th>0</th>\n",
       "      <td>no-recurrence-events</td>\n",
       "      <td>30-39</td>\n",
       "      <td>premeno</td>\n",
       "      <td>30-34</td>\n",
       "      <td>0-2</td>\n",
       "      <td>no</td>\n",
       "      <td>3</td>\n",
       "      <td>left</td>\n",
       "      <td>left_low</td>\n",
       "      <td>no</td>\n",
       "    </tr>\n",
       "    <tr>\n",
       "      <th>1</th>\n",
       "      <td>no-recurrence-events</td>\n",
       "      <td>40-49</td>\n",
       "      <td>premeno</td>\n",
       "      <td>20-24</td>\n",
       "      <td>0-2</td>\n",
       "      <td>no</td>\n",
       "      <td>2</td>\n",
       "      <td>right</td>\n",
       "      <td>right_up</td>\n",
       "      <td>no</td>\n",
       "    </tr>\n",
       "    <tr>\n",
       "      <th>2</th>\n",
       "      <td>no-recurrence-events</td>\n",
       "      <td>40-49</td>\n",
       "      <td>premeno</td>\n",
       "      <td>20-24</td>\n",
       "      <td>0-2</td>\n",
       "      <td>no</td>\n",
       "      <td>2</td>\n",
       "      <td>left</td>\n",
       "      <td>left_low</td>\n",
       "      <td>no</td>\n",
       "    </tr>\n",
       "    <tr>\n",
       "      <th>3</th>\n",
       "      <td>no-recurrence-events</td>\n",
       "      <td>60-69</td>\n",
       "      <td>ge40</td>\n",
       "      <td>15-19</td>\n",
       "      <td>0-2</td>\n",
       "      <td>no</td>\n",
       "      <td>2</td>\n",
       "      <td>right</td>\n",
       "      <td>left_up</td>\n",
       "      <td>no</td>\n",
       "    </tr>\n",
       "    <tr>\n",
       "      <th>4</th>\n",
       "      <td>no-recurrence-events</td>\n",
       "      <td>40-49</td>\n",
       "      <td>premeno</td>\n",
       "      <td>0-4</td>\n",
       "      <td>0-2</td>\n",
       "      <td>no</td>\n",
       "      <td>2</td>\n",
       "      <td>right</td>\n",
       "      <td>right_low</td>\n",
       "      <td>no</td>\n",
       "    </tr>\n",
       "  </tbody>\n",
       "</table>\n",
       "</div>"
      ],
      "text/plain": [
       "                  Class    age menopause tumor-size inv-nodes node-caps  \\\n",
       "0  no-recurrence-events  30-39   premeno      30-34       0-2        no   \n",
       "1  no-recurrence-events  40-49   premeno      20-24       0-2        no   \n",
       "2  no-recurrence-events  40-49   premeno      20-24       0-2        no   \n",
       "3  no-recurrence-events  60-69      ge40      15-19       0-2        no   \n",
       "4  no-recurrence-events  40-49   premeno        0-4       0-2        no   \n",
       "\n",
       "   deg-malig breast breast-quad irradiat  \n",
       "0          3   left    left_low       no  \n",
       "1          2  right    right_up       no  \n",
       "2          2   left    left_low       no  \n",
       "3          2  right     left_up       no  \n",
       "4          2  right   right_low       no  "
      ]
     },
     "execution_count": 72,
     "metadata": {},
     "output_type": "execute_result"
    }
   ],
   "source": [
    "df.head()"
   ]
  },
  {
   "cell_type": "code",
   "execution_count": 73,
   "metadata": {},
   "outputs": [
    {
     "data": {
      "text/plain": [
       "Class          0\n",
       "age            0\n",
       "menopause      0\n",
       "tumor-size     0\n",
       "inv-nodes      0\n",
       "node-caps      0\n",
       "deg-malig      0\n",
       "breast         0\n",
       "breast-quad    0\n",
       "irradiat       0\n",
       "dtype: int64"
      ]
     },
     "execution_count": 73,
     "metadata": {},
     "output_type": "execute_result"
    }
   ],
   "source": [
    "df.isna().sum()"
   ]
  },
  {
   "cell_type": "code",
   "execution_count": 74,
   "metadata": {},
   "outputs": [
    {
     "data": {
      "text/plain": [
       "0      False\n",
       "1      False\n",
       "2      False\n",
       "3      False\n",
       "4      False\n",
       "       ...  \n",
       "281    False\n",
       "282    False\n",
       "283    False\n",
       "284    False\n",
       "285    False\n",
       "Length: 286, dtype: bool"
      ]
     },
     "execution_count": 74,
     "metadata": {},
     "output_type": "execute_result"
    }
   ],
   "source": [
    "df.duplicated()"
   ]
  },
  {
   "cell_type": "code",
   "execution_count": 75,
   "metadata": {},
   "outputs": [
    {
     "name": "stdout",
     "output_type": "stream",
     "text": [
      "<class 'pandas.core.frame.DataFrame'>\n",
      "RangeIndex: 286 entries, 0 to 285\n",
      "Data columns (total 10 columns):\n",
      " #   Column       Non-Null Count  Dtype \n",
      "---  ------       --------------  ----- \n",
      " 0   Class        286 non-null    object\n",
      " 1   age          286 non-null    object\n",
      " 2   menopause    286 non-null    object\n",
      " 3   tumor-size   286 non-null    object\n",
      " 4   inv-nodes    286 non-null    object\n",
      " 5   node-caps    286 non-null    object\n",
      " 6   deg-malig    286 non-null    int64 \n",
      " 7   breast       286 non-null    object\n",
      " 8   breast-quad  286 non-null    object\n",
      " 9   irradiat     286 non-null    object\n",
      "dtypes: int64(1), object(9)\n",
      "memory usage: 22.5+ KB\n"
     ]
    }
   ],
   "source": [
    "df.info()"
   ]
  },
  {
   "cell_type": "code",
   "execution_count": 76,
   "metadata": {},
   "outputs": [],
   "source": [
    "x = df[['age','menopause','tumor-size','inv-nodes','node-caps','deg-malig','breast','breast-quad']] #Feature\n",
    "y = df[\"irradiat\"] #Target"
   ]
  },
  {
   "cell_type": "markdown",
   "metadata": {},
   "source": [
    "# ENCODING DATA"
   ]
  },
  {
   "cell_type": "code",
   "execution_count": 77,
   "metadata": {},
   "outputs": [],
   "source": [
    "x = pd.get_dummies(x)"
   ]
  },
  {
   "cell_type": "code",
   "execution_count": 78,
   "metadata": {},
   "outputs": [],
   "source": [
    "from sklearn.preprocessing import LabelEncoder"
   ]
  },
  {
   "cell_type": "code",
   "execution_count": 79,
   "metadata": {},
   "outputs": [],
   "source": [
    "O = LabelEncoder()"
   ]
  },
  {
   "cell_type": "code",
   "execution_count": 80,
   "metadata": {},
   "outputs": [],
   "source": [
    "y = O.fit_transform(y)"
   ]
  },
  {
   "cell_type": "markdown",
   "metadata": {},
   "source": [
    "# SPLIT DATA"
   ]
  },
  {
   "cell_type": "code",
   "execution_count": 81,
   "metadata": {},
   "outputs": [],
   "source": [
    "x_train, x_test, y_train, y_test = train_test_split(x, y, test_size=0.3)"
   ]
  },
  {
   "cell_type": "code",
   "execution_count": 82,
   "metadata": {},
   "outputs": [
    {
     "name": "stdout",
     "output_type": "stream",
     "text": [
      "panjang x train : 200\n",
      " panjang y train : 200\n",
      " panjang x test : 86\n",
      " panjang y test : 86\n",
      "\n"
     ]
    }
   ],
   "source": [
    "print(f'panjang x train : {len(x_train)}\\n',\n",
    "f'panjang y train : {len(y_train)}\\n',\n",
    "f'panjang x test : {len(x_test)}\\n',\n",
    "f'panjang y test : {len(y_test)}\\n')"
   ]
  },
  {
   "cell_type": "code",
   "execution_count": 83,
   "metadata": {},
   "outputs": [
    {
     "name": "stdout",
     "output_type": "stream",
     "text": [
      "<class 'pandas.core.frame.DataFrame'>\n",
      "RangeIndex: 286 entries, 0 to 285\n",
      "Data columns (total 39 columns):\n",
      " #   Column                 Non-Null Count  Dtype\n",
      "---  ------                 --------------  -----\n",
      " 0   deg-malig              286 non-null    int64\n",
      " 1   age_20-29              286 non-null    uint8\n",
      " 2   age_30-39              286 non-null    uint8\n",
      " 3   age_40-49              286 non-null    uint8\n",
      " 4   age_50-59              286 non-null    uint8\n",
      " 5   age_60-69              286 non-null    uint8\n",
      " 6   age_70-79              286 non-null    uint8\n",
      " 7   menopause_ge40         286 non-null    uint8\n",
      " 8   menopause_lt40         286 non-null    uint8\n",
      " 9   menopause_premeno      286 non-null    uint8\n",
      " 10  tumor-size_0-4         286 non-null    uint8\n",
      " 11  tumor-size_10-14       286 non-null    uint8\n",
      " 12  tumor-size_15-19       286 non-null    uint8\n",
      " 13  tumor-size_20-24       286 non-null    uint8\n",
      " 14  tumor-size_25-29       286 non-null    uint8\n",
      " 15  tumor-size_30-34       286 non-null    uint8\n",
      " 16  tumor-size_35-39       286 non-null    uint8\n",
      " 17  tumor-size_40-44       286 non-null    uint8\n",
      " 18  tumor-size_45-49       286 non-null    uint8\n",
      " 19  tumor-size_5-9         286 non-null    uint8\n",
      " 20  tumor-size_50-54       286 non-null    uint8\n",
      " 21  inv-nodes_0-2          286 non-null    uint8\n",
      " 22  inv-nodes_12-14        286 non-null    uint8\n",
      " 23  inv-nodes_15-17        286 non-null    uint8\n",
      " 24  inv-nodes_24-26        286 non-null    uint8\n",
      " 25  inv-nodes_3-5          286 non-null    uint8\n",
      " 26  inv-nodes_6-8          286 non-null    uint8\n",
      " 27  inv-nodes_9-11         286 non-null    uint8\n",
      " 28  node-caps_?            286 non-null    uint8\n",
      " 29  node-caps_no           286 non-null    uint8\n",
      " 30  node-caps_yes          286 non-null    uint8\n",
      " 31  breast_left            286 non-null    uint8\n",
      " 32  breast_right           286 non-null    uint8\n",
      " 33  breast-quad_?          286 non-null    uint8\n",
      " 34  breast-quad_central    286 non-null    uint8\n",
      " 35  breast-quad_left_low   286 non-null    uint8\n",
      " 36  breast-quad_left_up    286 non-null    uint8\n",
      " 37  breast-quad_right_low  286 non-null    uint8\n",
      " 38  breast-quad_right_up   286 non-null    uint8\n",
      "dtypes: int64(1), uint8(38)\n",
      "memory usage: 13.0 KB\n"
     ]
    }
   ],
   "source": [
    "x.info()"
   ]
  },
  {
   "cell_type": "markdown",
   "metadata": {},
   "source": [
    "# Data standarisasi"
   ]
  },
  {
   "cell_type": "code",
   "execution_count": 84,
   "metadata": {},
   "outputs": [],
   "source": [
    "ss = StandardScaler()"
   ]
  },
  {
   "cell_type": "code",
   "execution_count": 85,
   "metadata": {},
   "outputs": [],
   "source": [
    "x_scaled_train = ss.fit_transform(x_train)\n",
    "x_scaled_test = ss.fit_transform(x_test)"
   ]
  },
  {
   "cell_type": "code",
   "execution_count": 86,
   "metadata": {},
   "outputs": [],
   "source": [
    "y_train = to_categorical(y_train, 2)\n",
    "y_test = to_categorical(y_test, 2)"
   ]
  },
  {
   "cell_type": "markdown",
   "metadata": {},
   "source": [
    "# MEMBUAT MODEL"
   ]
  },
  {
   "cell_type": "code",
   "execution_count": 87,
   "metadata": {},
   "outputs": [
    {
     "name": "stdout",
     "output_type": "stream",
     "text": [
      "Model: \"sequential_2\"\n",
      "_________________________________________________________________\n",
      " Layer (type)                Output Shape              Param #   \n",
      "=================================================================\n",
      " dense_4 (Dense)             (None, 50)                2000      \n",
      "                                                                 \n",
      " dense_5 (Dense)             (None, 2)                 102       \n",
      "                                                                 \n",
      "=================================================================\n",
      "Total params: 2,102\n",
      "Trainable params: 2,102\n",
      "Non-trainable params: 0\n",
      "_________________________________________________________________\n"
     ]
    }
   ],
   "source": [
    "from keras import Sequential\n",
    "from keras.layers import Dense\n",
    "\n",
    "model = Sequential()\n",
    "\n",
    "#Input Layer\n",
    "model.add(Dense(50, activation='relu', input_dim=39))\n",
    "\n",
    "#Output Layer\n",
    "model.add(Dense(2, activation='sigmoid')) #output layer harus disamakan dengan jumlah class, semakin banyak jumlah neuron semakin kompleks modelnya jadi bisa overfitting\n",
    "\n",
    "model.summary()"
   ]
  },
  {
   "cell_type": "markdown",
   "metadata": {},
   "source": [
    "# Import Library"
   ]
  },
  {
   "cell_type": "code",
   "execution_count": 88,
   "metadata": {},
   "outputs": [],
   "source": [
    "from keras.utils import to_categorical\n",
    "from keras.optimizers import Adam\n",
    "from keras.losses import binary_crossentropy"
   ]
  },
  {
   "cell_type": "markdown",
   "metadata": {},
   "source": [
    "# Mengoptimasi Model"
   ]
  },
  {
   "cell_type": "code",
   "execution_count": 89,
   "metadata": {},
   "outputs": [],
   "source": [
    "# Import the early stopping callback\n",
    "from keras.callbacks import EarlyStopping\n",
    "\n",
    "# Define a callback to monitor val_accuracy\n",
    "monitor_val_acc = EarlyStopping(monitor='accuracy', #dilihat berdasarkan validasi accuracy atau accuracy saja, tetapi monitor hanya bisa memasukkan 1 saja\n",
    "                                patience=20)#jadi jika di 20 epoch selanjutnya itu tidak berubah maka diberentikan\n"
   ]
  },
  {
   "cell_type": "code",
   "execution_count": 90,
   "metadata": {},
   "outputs": [],
   "source": [
    "model.compile(\n",
    "    optimizer=Adam(),\n",
    "    loss = binary_crossentropy,\n",
    "    metrics = ['accuracy']\n",
    ")"
   ]
  },
  {
   "cell_type": "markdown",
   "metadata": {},
   "source": [
    "# Melatih model training"
   ]
  },
  {
   "cell_type": "code",
   "execution_count": 91,
   "metadata": {},
   "outputs": [
    {
     "name": "stdout",
     "output_type": "stream",
     "text": [
      "Epoch 1/120\n",
      "7/7 [==============================] - 1s 26ms/step - loss: 0.8925 - accuracy: 0.3100 - val_loss: 0.8618 - val_accuracy: 0.3256\n",
      "Epoch 2/120\n",
      "7/7 [==============================] - 0s 7ms/step - loss: 0.8139 - accuracy: 0.3900 - val_loss: 0.7974 - val_accuracy: 0.3721\n",
      "Epoch 3/120\n",
      "7/7 [==============================] - 0s 6ms/step - loss: 0.7474 - accuracy: 0.5200 - val_loss: 0.7449 - val_accuracy: 0.5000\n",
      "Epoch 4/120\n",
      "7/7 [==============================] - 0s 10ms/step - loss: 0.6942 - accuracy: 0.6300 - val_loss: 0.6980 - val_accuracy: 0.5930\n",
      "Epoch 5/120\n",
      "7/7 [==============================] - 0s 10ms/step - loss: 0.6480 - accuracy: 0.7400 - val_loss: 0.6587 - val_accuracy: 0.6744\n",
      "Epoch 6/120\n",
      "7/7 [==============================] - 0s 8ms/step - loss: 0.6093 - accuracy: 0.7750 - val_loss: 0.6266 - val_accuracy: 0.6977\n",
      "Epoch 7/120\n",
      "7/7 [==============================] - 0s 6ms/step - loss: 0.5764 - accuracy: 0.8050 - val_loss: 0.5997 - val_accuracy: 0.7558\n",
      "Epoch 8/120\n",
      "7/7 [==============================] - 0s 6ms/step - loss: 0.5489 - accuracy: 0.8100 - val_loss: 0.5774 - val_accuracy: 0.7674\n",
      "Epoch 9/120\n",
      "7/7 [==============================] - 0s 6ms/step - loss: 0.5250 - accuracy: 0.8250 - val_loss: 0.5587 - val_accuracy: 0.7674\n",
      "Epoch 10/120\n",
      "7/7 [==============================] - 0s 6ms/step - loss: 0.5050 - accuracy: 0.8300 - val_loss: 0.5434 - val_accuracy: 0.7558\n",
      "Epoch 11/120\n",
      "7/7 [==============================] - 0s 7ms/step - loss: 0.4876 - accuracy: 0.8300 - val_loss: 0.5311 - val_accuracy: 0.7674\n",
      "Epoch 12/120\n",
      "7/7 [==============================] - 0s 9ms/step - loss: 0.4719 - accuracy: 0.8300 - val_loss: 0.5221 - val_accuracy: 0.7674\n",
      "Epoch 13/120\n",
      "7/7 [==============================] - 0s 10ms/step - loss: 0.4584 - accuracy: 0.8300 - val_loss: 0.5146 - val_accuracy: 0.7791\n",
      "Epoch 14/120\n",
      "7/7 [==============================] - 0s 7ms/step - loss: 0.4463 - accuracy: 0.8350 - val_loss: 0.5086 - val_accuracy: 0.7791\n",
      "Epoch 15/120\n",
      "7/7 [==============================] - 0s 7ms/step - loss: 0.4346 - accuracy: 0.8300 - val_loss: 0.5036 - val_accuracy: 0.7791\n",
      "Epoch 16/120\n",
      "7/7 [==============================] - 0s 7ms/step - loss: 0.4244 - accuracy: 0.8350 - val_loss: 0.4996 - val_accuracy: 0.7791\n",
      "Epoch 17/120\n",
      "7/7 [==============================] - 0s 6ms/step - loss: 0.4136 - accuracy: 0.8350 - val_loss: 0.4971 - val_accuracy: 0.7791\n",
      "Epoch 18/120\n",
      "7/7 [==============================] - 0s 6ms/step - loss: 0.4048 - accuracy: 0.8350 - val_loss: 0.4949 - val_accuracy: 0.7791\n",
      "Epoch 19/120\n",
      "7/7 [==============================] - 0s 7ms/step - loss: 0.3958 - accuracy: 0.8350 - val_loss: 0.4934 - val_accuracy: 0.7791\n",
      "Epoch 20/120\n",
      "7/7 [==============================] - 0s 7ms/step - loss: 0.3880 - accuracy: 0.8400 - val_loss: 0.4934 - val_accuracy: 0.7791\n",
      "Epoch 21/120\n",
      "7/7 [==============================] - 0s 6ms/step - loss: 0.3804 - accuracy: 0.8500 - val_loss: 0.4938 - val_accuracy: 0.7791\n",
      "Epoch 22/120\n",
      "7/7 [==============================] - 0s 7ms/step - loss: 0.3733 - accuracy: 0.8500 - val_loss: 0.4943 - val_accuracy: 0.7791\n",
      "Epoch 23/120\n",
      "7/7 [==============================] - 0s 6ms/step - loss: 0.3667 - accuracy: 0.8500 - val_loss: 0.4950 - val_accuracy: 0.7791\n",
      "Epoch 24/120\n",
      "7/7 [==============================] - 0s 7ms/step - loss: 0.3600 - accuracy: 0.8400 - val_loss: 0.4955 - val_accuracy: 0.7791\n",
      "Epoch 25/120\n",
      "7/7 [==============================] - 0s 7ms/step - loss: 0.3532 - accuracy: 0.8400 - val_loss: 0.4965 - val_accuracy: 0.7791\n",
      "Epoch 26/120\n",
      "7/7 [==============================] - 0s 7ms/step - loss: 0.3477 - accuracy: 0.8550 - val_loss: 0.4974 - val_accuracy: 0.7791\n",
      "Epoch 27/120\n",
      "7/7 [==============================] - 0s 6ms/step - loss: 0.3417 - accuracy: 0.8550 - val_loss: 0.4985 - val_accuracy: 0.7791\n",
      "Epoch 28/120\n",
      "7/7 [==============================] - 0s 6ms/step - loss: 0.3361 - accuracy: 0.8550 - val_loss: 0.5008 - val_accuracy: 0.7791\n",
      "Epoch 29/120\n",
      "7/7 [==============================] - 0s 9ms/step - loss: 0.3306 - accuracy: 0.8600 - val_loss: 0.5035 - val_accuracy: 0.7791\n",
      "Epoch 30/120\n",
      "7/7 [==============================] - 0s 9ms/step - loss: 0.3254 - accuracy: 0.8600 - val_loss: 0.5060 - val_accuracy: 0.7791\n",
      "Epoch 31/120\n",
      "7/7 [==============================] - 0s 8ms/step - loss: 0.3208 - accuracy: 0.8650 - val_loss: 0.5079 - val_accuracy: 0.7791\n",
      "Epoch 32/120\n",
      "7/7 [==============================] - 0s 6ms/step - loss: 0.3160 - accuracy: 0.8650 - val_loss: 0.5112 - val_accuracy: 0.7791\n",
      "Epoch 33/120\n",
      "7/7 [==============================] - 0s 7ms/step - loss: 0.3116 - accuracy: 0.8700 - val_loss: 0.5141 - val_accuracy: 0.7791\n",
      "Epoch 34/120\n",
      "7/7 [==============================] - 0s 6ms/step - loss: 0.3079 - accuracy: 0.8750 - val_loss: 0.5169 - val_accuracy: 0.7907\n",
      "Epoch 35/120\n",
      "7/7 [==============================] - 0s 7ms/step - loss: 0.3046 - accuracy: 0.8750 - val_loss: 0.5207 - val_accuracy: 0.7907\n",
      "Epoch 36/120\n",
      "7/7 [==============================] - 0s 6ms/step - loss: 0.3008 - accuracy: 0.8700 - val_loss: 0.5241 - val_accuracy: 0.7791\n",
      "Epoch 37/120\n",
      "7/7 [==============================] - 0s 6ms/step - loss: 0.2975 - accuracy: 0.8700 - val_loss: 0.5273 - val_accuracy: 0.7791\n",
      "Epoch 38/120\n",
      "7/7 [==============================] - 0s 7ms/step - loss: 0.2940 - accuracy: 0.8800 - val_loss: 0.5291 - val_accuracy: 0.7791\n",
      "Epoch 39/120\n",
      "7/7 [==============================] - 0s 6ms/step - loss: 0.2902 - accuracy: 0.8800 - val_loss: 0.5316 - val_accuracy: 0.7791\n",
      "Epoch 40/120\n",
      "7/7 [==============================] - 0s 6ms/step - loss: 0.2873 - accuracy: 0.8800 - val_loss: 0.5344 - val_accuracy: 0.7791\n",
      "Epoch 41/120\n",
      "7/7 [==============================] - 0s 6ms/step - loss: 0.2842 - accuracy: 0.8850 - val_loss: 0.5374 - val_accuracy: 0.7674\n",
      "Epoch 42/120\n",
      "7/7 [==============================] - 0s 7ms/step - loss: 0.2818 - accuracy: 0.8850 - val_loss: 0.5401 - val_accuracy: 0.7674\n",
      "Epoch 43/120\n",
      "7/7 [==============================] - 0s 7ms/step - loss: 0.2780 - accuracy: 0.8850 - val_loss: 0.5438 - val_accuracy: 0.7674\n",
      "Epoch 44/120\n",
      "7/7 [==============================] - 0s 6ms/step - loss: 0.2752 - accuracy: 0.8850 - val_loss: 0.5467 - val_accuracy: 0.7674\n",
      "Epoch 45/120\n",
      "7/7 [==============================] - 0s 6ms/step - loss: 0.2723 - accuracy: 0.8900 - val_loss: 0.5502 - val_accuracy: 0.7674\n",
      "Epoch 46/120\n",
      "7/7 [==============================] - 0s 7ms/step - loss: 0.2694 - accuracy: 0.8950 - val_loss: 0.5543 - val_accuracy: 0.7674\n",
      "Epoch 47/120\n",
      "7/7 [==============================] - 0s 6ms/step - loss: 0.2667 - accuracy: 0.8950 - val_loss: 0.5566 - val_accuracy: 0.7674\n",
      "Epoch 48/120\n",
      "7/7 [==============================] - 0s 7ms/step - loss: 0.2643 - accuracy: 0.8900 - val_loss: 0.5602 - val_accuracy: 0.7674\n",
      "Epoch 49/120\n",
      "7/7 [==============================] - 0s 6ms/step - loss: 0.2616 - accuracy: 0.8900 - val_loss: 0.5632 - val_accuracy: 0.7674\n",
      "Epoch 50/120\n",
      "7/7 [==============================] - 0s 7ms/step - loss: 0.2589 - accuracy: 0.8900 - val_loss: 0.5663 - val_accuracy: 0.7674\n",
      "Epoch 51/120\n",
      "7/7 [==============================] - 0s 7ms/step - loss: 0.2565 - accuracy: 0.8900 - val_loss: 0.5682 - val_accuracy: 0.7674\n",
      "Epoch 52/120\n",
      "7/7 [==============================] - 0s 7ms/step - loss: 0.2541 - accuracy: 0.8850 - val_loss: 0.5722 - val_accuracy: 0.7674\n",
      "Epoch 53/120\n",
      "7/7 [==============================] - 0s 6ms/step - loss: 0.2520 - accuracy: 0.8950 - val_loss: 0.5750 - val_accuracy: 0.7674\n",
      "Epoch 54/120\n",
      "7/7 [==============================] - 0s 6ms/step - loss: 0.2500 - accuracy: 0.8850 - val_loss: 0.5788 - val_accuracy: 0.7674\n",
      "Epoch 55/120\n",
      "7/7 [==============================] - 0s 7ms/step - loss: 0.2481 - accuracy: 0.8850 - val_loss: 0.5815 - val_accuracy: 0.7674\n",
      "Epoch 56/120\n",
      "7/7 [==============================] - 0s 6ms/step - loss: 0.2455 - accuracy: 0.8850 - val_loss: 0.5842 - val_accuracy: 0.7674\n",
      "Epoch 57/120\n",
      "7/7 [==============================] - 0s 6ms/step - loss: 0.2435 - accuracy: 0.8850 - val_loss: 0.5869 - val_accuracy: 0.7674\n",
      "Epoch 58/120\n",
      "7/7 [==============================] - 0s 6ms/step - loss: 0.2416 - accuracy: 0.8850 - val_loss: 0.5895 - val_accuracy: 0.7674\n",
      "Epoch 59/120\n",
      "7/7 [==============================] - 0s 7ms/step - loss: 0.2393 - accuracy: 0.8850 - val_loss: 0.5899 - val_accuracy: 0.7674\n",
      "Epoch 60/120\n",
      "7/7 [==============================] - 0s 6ms/step - loss: 0.2371 - accuracy: 0.8850 - val_loss: 0.5913 - val_accuracy: 0.7674\n",
      "Epoch 61/120\n",
      "7/7 [==============================] - 0s 7ms/step - loss: 0.2349 - accuracy: 0.8850 - val_loss: 0.5925 - val_accuracy: 0.7674\n",
      "Epoch 62/120\n",
      "7/7 [==============================] - 0s 6ms/step - loss: 0.2332 - accuracy: 0.8900 - val_loss: 0.5957 - val_accuracy: 0.7674\n",
      "Epoch 63/120\n",
      "7/7 [==============================] - 0s 6ms/step - loss: 0.2303 - accuracy: 0.9000 - val_loss: 0.6003 - val_accuracy: 0.7674\n",
      "Epoch 64/120\n",
      "7/7 [==============================] - 0s 6ms/step - loss: 0.2287 - accuracy: 0.8950 - val_loss: 0.6046 - val_accuracy: 0.7907\n",
      "Epoch 65/120\n",
      "7/7 [==============================] - 0s 7ms/step - loss: 0.2271 - accuracy: 0.8950 - val_loss: 0.6076 - val_accuracy: 0.7907\n",
      "Epoch 66/120\n",
      "7/7 [==============================] - 0s 6ms/step - loss: 0.2255 - accuracy: 0.9050 - val_loss: 0.6096 - val_accuracy: 0.7907\n",
      "Epoch 67/120\n",
      "7/7 [==============================] - 0s 6ms/step - loss: 0.2231 - accuracy: 0.9050 - val_loss: 0.6118 - val_accuracy: 0.7907\n",
      "Epoch 68/120\n",
      "7/7 [==============================] - 0s 6ms/step - loss: 0.2213 - accuracy: 0.9050 - val_loss: 0.6149 - val_accuracy: 0.7791\n",
      "Epoch 69/120\n",
      "7/7 [==============================] - 0s 7ms/step - loss: 0.2191 - accuracy: 0.9050 - val_loss: 0.6177 - val_accuracy: 0.7907\n",
      "Epoch 70/120\n",
      "7/7 [==============================] - 0s 6ms/step - loss: 0.2174 - accuracy: 0.9050 - val_loss: 0.6215 - val_accuracy: 0.7791\n",
      "Epoch 71/120\n",
      "7/7 [==============================] - 0s 6ms/step - loss: 0.2156 - accuracy: 0.9100 - val_loss: 0.6241 - val_accuracy: 0.7791\n",
      "Epoch 72/120\n",
      "7/7 [==============================] - 0s 6ms/step - loss: 0.2137 - accuracy: 0.9050 - val_loss: 0.6268 - val_accuracy: 0.7791\n",
      "Epoch 73/120\n",
      "7/7 [==============================] - 0s 6ms/step - loss: 0.2121 - accuracy: 0.9050 - val_loss: 0.6289 - val_accuracy: 0.7791\n",
      "Epoch 74/120\n",
      "7/7 [==============================] - 0s 6ms/step - loss: 0.2101 - accuracy: 0.9150 - val_loss: 0.6324 - val_accuracy: 0.7674\n",
      "Epoch 75/120\n",
      "7/7 [==============================] - 0s 6ms/step - loss: 0.2085 - accuracy: 0.9100 - val_loss: 0.6363 - val_accuracy: 0.7674\n",
      "Epoch 76/120\n",
      "7/7 [==============================] - 0s 7ms/step - loss: 0.2066 - accuracy: 0.9100 - val_loss: 0.6403 - val_accuracy: 0.7674\n",
      "Epoch 77/120\n",
      "7/7 [==============================] - 0s 6ms/step - loss: 0.2051 - accuracy: 0.9150 - val_loss: 0.6423 - val_accuracy: 0.7674\n",
      "Epoch 78/120\n",
      "7/7 [==============================] - 0s 6ms/step - loss: 0.2033 - accuracy: 0.9150 - val_loss: 0.6448 - val_accuracy: 0.7674\n",
      "Epoch 79/120\n",
      "7/7 [==============================] - 0s 7ms/step - loss: 0.2017 - accuracy: 0.9150 - val_loss: 0.6475 - val_accuracy: 0.7674\n",
      "Epoch 80/120\n",
      "7/7 [==============================] - 0s 6ms/step - loss: 0.2000 - accuracy: 0.9150 - val_loss: 0.6516 - val_accuracy: 0.7674\n",
      "Epoch 81/120\n",
      "7/7 [==============================] - 0s 6ms/step - loss: 0.1982 - accuracy: 0.9150 - val_loss: 0.6554 - val_accuracy: 0.7674\n",
      "Epoch 82/120\n",
      "7/7 [==============================] - 0s 6ms/step - loss: 0.1968 - accuracy: 0.9150 - val_loss: 0.6582 - val_accuracy: 0.7674\n",
      "Epoch 83/120\n",
      "7/7 [==============================] - 0s 6ms/step - loss: 0.1951 - accuracy: 0.9150 - val_loss: 0.6614 - val_accuracy: 0.7674\n",
      "Epoch 84/120\n",
      "7/7 [==============================] - 0s 6ms/step - loss: 0.1937 - accuracy: 0.9250 - val_loss: 0.6650 - val_accuracy: 0.7674\n",
      "Epoch 85/120\n",
      "7/7 [==============================] - 0s 7ms/step - loss: 0.1923 - accuracy: 0.9200 - val_loss: 0.6677 - val_accuracy: 0.7674\n",
      "Epoch 86/120\n",
      "7/7 [==============================] - 0s 6ms/step - loss: 0.1900 - accuracy: 0.9200 - val_loss: 0.6680 - val_accuracy: 0.7674\n",
      "Epoch 87/120\n",
      "7/7 [==============================] - 0s 6ms/step - loss: 0.1895 - accuracy: 0.9250 - val_loss: 0.6682 - val_accuracy: 0.7674\n",
      "Epoch 88/120\n",
      "7/7 [==============================] - 0s 7ms/step - loss: 0.1875 - accuracy: 0.9250 - val_loss: 0.6680 - val_accuracy: 0.7674\n",
      "Epoch 89/120\n",
      "7/7 [==============================] - 0s 6ms/step - loss: 0.1861 - accuracy: 0.9200 - val_loss: 0.6704 - val_accuracy: 0.7674\n",
      "Epoch 90/120\n",
      "7/7 [==============================] - 0s 7ms/step - loss: 0.1845 - accuracy: 0.9200 - val_loss: 0.6725 - val_accuracy: 0.7674\n",
      "Epoch 91/120\n",
      "7/7 [==============================] - 0s 6ms/step - loss: 0.1831 - accuracy: 0.9250 - val_loss: 0.6758 - val_accuracy: 0.7674\n",
      "Epoch 92/120\n",
      "7/7 [==============================] - 0s 6ms/step - loss: 0.1813 - accuracy: 0.9300 - val_loss: 0.6789 - val_accuracy: 0.7674\n",
      "Epoch 93/120\n",
      "7/7 [==============================] - 0s 6ms/step - loss: 0.1795 - accuracy: 0.9250 - val_loss: 0.6808 - val_accuracy: 0.7674\n",
      "Epoch 94/120\n",
      "7/7 [==============================] - 0s 6ms/step - loss: 0.1782 - accuracy: 0.9250 - val_loss: 0.6825 - val_accuracy: 0.7674\n",
      "Epoch 95/120\n",
      "7/7 [==============================] - 0s 6ms/step - loss: 0.1769 - accuracy: 0.9250 - val_loss: 0.6856 - val_accuracy: 0.7674\n",
      "Epoch 96/120\n",
      "7/7 [==============================] - 0s 6ms/step - loss: 0.1749 - accuracy: 0.9300 - val_loss: 0.6890 - val_accuracy: 0.7674\n",
      "Epoch 97/120\n",
      "7/7 [==============================] - 0s 6ms/step - loss: 0.1733 - accuracy: 0.9250 - val_loss: 0.6902 - val_accuracy: 0.7674\n",
      "Epoch 98/120\n",
      "7/7 [==============================] - 0s 6ms/step - loss: 0.1722 - accuracy: 0.9300 - val_loss: 0.6910 - val_accuracy: 0.7674\n",
      "Epoch 99/120\n",
      "7/7 [==============================] - 0s 6ms/step - loss: 0.1704 - accuracy: 0.9300 - val_loss: 0.6934 - val_accuracy: 0.7674\n",
      "Epoch 100/120\n",
      "7/7 [==============================] - 0s 6ms/step - loss: 0.1689 - accuracy: 0.9450 - val_loss: 0.6959 - val_accuracy: 0.7674\n",
      "Epoch 101/120\n",
      "7/7 [==============================] - 0s 6ms/step - loss: 0.1676 - accuracy: 0.9450 - val_loss: 0.6968 - val_accuracy: 0.7674\n",
      "Epoch 102/120\n",
      "7/7 [==============================] - 0s 6ms/step - loss: 0.1665 - accuracy: 0.9450 - val_loss: 0.6998 - val_accuracy: 0.7674\n",
      "Epoch 103/120\n",
      "7/7 [==============================] - 0s 7ms/step - loss: 0.1651 - accuracy: 0.9450 - val_loss: 0.7005 - val_accuracy: 0.7674\n",
      "Epoch 104/120\n",
      "7/7 [==============================] - 0s 6ms/step - loss: 0.1635 - accuracy: 0.9450 - val_loss: 0.7018 - val_accuracy: 0.7674\n",
      "Epoch 105/120\n",
      "7/7 [==============================] - 0s 6ms/step - loss: 0.1622 - accuracy: 0.9500 - val_loss: 0.7042 - val_accuracy: 0.7674\n",
      "Epoch 106/120\n",
      "7/7 [==============================] - 0s 6ms/step - loss: 0.1608 - accuracy: 0.9550 - val_loss: 0.7072 - val_accuracy: 0.7674\n",
      "Epoch 107/120\n",
      "7/7 [==============================] - 0s 6ms/step - loss: 0.1592 - accuracy: 0.9550 - val_loss: 0.7110 - val_accuracy: 0.7674\n",
      "Epoch 108/120\n",
      "7/7 [==============================] - 0s 6ms/step - loss: 0.1580 - accuracy: 0.9600 - val_loss: 0.7153 - val_accuracy: 0.7674\n",
      "Epoch 109/120\n",
      "7/7 [==============================] - 0s 6ms/step - loss: 0.1565 - accuracy: 0.9500 - val_loss: 0.7186 - val_accuracy: 0.7674\n",
      "Epoch 110/120\n",
      "7/7 [==============================] - 0s 6ms/step - loss: 0.1552 - accuracy: 0.9550 - val_loss: 0.7214 - val_accuracy: 0.7674\n",
      "Epoch 111/120\n",
      "7/7 [==============================] - 0s 7ms/step - loss: 0.1541 - accuracy: 0.9500 - val_loss: 0.7223 - val_accuracy: 0.7674\n",
      "Epoch 112/120\n",
      "7/7 [==============================] - 0s 6ms/step - loss: 0.1526 - accuracy: 0.9550 - val_loss: 0.7229 - val_accuracy: 0.7674\n",
      "Epoch 113/120\n",
      "7/7 [==============================] - 0s 6ms/step - loss: 0.1510 - accuracy: 0.9550 - val_loss: 0.7247 - val_accuracy: 0.7791\n",
      "Epoch 114/120\n",
      "7/7 [==============================] - 0s 6ms/step - loss: 0.1498 - accuracy: 0.9600 - val_loss: 0.7255 - val_accuracy: 0.7674\n",
      "Epoch 115/120\n",
      "7/7 [==============================] - 0s 6ms/step - loss: 0.1487 - accuracy: 0.9650 - val_loss: 0.7294 - val_accuracy: 0.7674\n",
      "Epoch 116/120\n",
      "7/7 [==============================] - 0s 6ms/step - loss: 0.1476 - accuracy: 0.9650 - val_loss: 0.7339 - val_accuracy: 0.7674\n",
      "Epoch 117/120\n",
      "7/7 [==============================] - 0s 6ms/step - loss: 0.1458 - accuracy: 0.9650 - val_loss: 0.7342 - val_accuracy: 0.7674\n",
      "Epoch 118/120\n",
      "7/7 [==============================] - 0s 6ms/step - loss: 0.1452 - accuracy: 0.9700 - val_loss: 0.7356 - val_accuracy: 0.7674\n",
      "Epoch 119/120\n",
      "7/7 [==============================] - 0s 7ms/step - loss: 0.1438 - accuracy: 0.9600 - val_loss: 0.7376 - val_accuracy: 0.7674\n",
      "Epoch 120/120\n",
      "7/7 [==============================] - 0s 6ms/step - loss: 0.1426 - accuracy: 0.9600 - val_loss: 0.7398 - val_accuracy: 0.7674\n"
     ]
    }
   ],
   "source": [
    "history = model.fit(\n",
    "    x = x_scaled_train, \n",
    "    y = y_train,\n",
    "    validation_data=(x_scaled_test,y_test),\n",
    "    epochs=120,\n",
    "    verbose=1,\n",
    "    callbacks=[monitor_val_acc]\n",
    ")"
   ]
  },
  {
   "cell_type": "code",
   "execution_count": 92,
   "metadata": {},
   "outputs": [
    {
     "name": "stdout",
     "output_type": "stream",
     "text": [
      "3/3 [==============================] - 0s 3ms/step - loss: 0.7398 - accuracy: 0.7674\n"
     ]
    },
    {
     "data": {
      "text/plain": [
       "[0.7397895455360413, 0.7674418687820435]"
      ]
     },
     "execution_count": 92,
     "metadata": {},
     "output_type": "execute_result"
    }
   ],
   "source": [
    "model.evaluate(x_scaled_test,y_test)"
   ]
  },
  {
   "cell_type": "markdown",
   "metadata": {},
   "source": [
    "# Visualisasi"
   ]
  },
  {
   "cell_type": "code",
   "execution_count": 93,
   "metadata": {},
   "outputs": [
    {
     "data": {
      "image/png": "[encoded data removed]",
      "text/plain": [
       "<Figure size 500x500 with 1 Axes>"
      ]
     },
     "metadata": {},
     "output_type": "display_data"
    }
   ],
   "source": [
    "plt.figure(1, figsize=(5,5))\n",
    "plt.plot(range(len(history.history['accuracy'])), \n",
    "         history.history['accuracy'],\n",
    "         label='training')\n",
    "plt.plot(range(len(history.history['val_accuracy'])), \n",
    "         history.history['val_accuracy'],\n",
    "         label='validation')\n",
    "plt.legend()\n",
    "plt.show()"
   ]
  },
  {
   "cell_type": "code",
   "execution_count": 94,
   "metadata": {},
   "outputs": [],
   "source": [
    "from sklearn.metrics import ConfusionMatrixDisplay\n",
    "from sklearn.metrics import confusion_matrix"
   ]
  },
  {
   "cell_type": "code",
   "execution_count": 95,
   "metadata": {},
   "outputs": [
    {
     "name": "stdout",
     "output_type": "stream",
     "text": [
      "3/3 [==============================] - 0s 2ms/step\n"
     ]
    }
   ],
   "source": [
    "y_pred = model.predict(x_scaled_test)"
   ]
  },
  {
   "cell_type": "markdown",
   "metadata": {},
   "source": [
    "Hasil Probabilitas\n",
    "- jika lebih besar kiri maka mengembalikan 0 \n",
    "- jika lbeih besar kanan mengembalikan 1"
   ]
  },
  {
   "cell_type": "code",
   "execution_count": 96,
   "metadata": {},
   "outputs": [
    {
     "data": {
      "text/plain": [
       "array([[9.97144401e-01, 1.52997870e-03],\n",
       "       [6.88585401e-01, 2.77935028e-01],\n",
       "       [9.49832857e-01, 6.35603145e-02],\n",
       "       [9.90135491e-01, 5.59446961e-03],\n",
       "       [3.48806322e-01, 6.62361681e-01],\n",
       "       [7.28955030e-01, 1.84453994e-01],\n",
       "       [9.82526422e-01, 1.94116458e-02],\n",
       "       [9.58173156e-01, 4.33244333e-02],\n",
       "       [9.92694020e-01, 1.07225962e-02],\n",
       "       [9.99280512e-01, 5.04646159e-04],\n",
       "       [9.93471205e-01, 2.72585847e-03],\n",
       "       [9.27895367e-01, 7.91952983e-02],\n",
       "       [7.80694604e-01, 1.22448884e-01],\n",
       "       [9.71581459e-01, 1.65283252e-02],\n",
       "       [6.11608699e-02, 8.37167084e-01],\n",
       "       [6.64251328e-01, 3.73508096e-01],\n",
       "       [6.99626207e-01, 2.72502899e-01],\n",
       "       [3.08182230e-03, 9.95648146e-01],\n",
       "       [8.49456728e-01, 2.44315073e-01],\n",
       "       [9.67038989e-01, 1.27070313e-02],\n",
       "       [9.60489750e-01, 3.29653360e-02],\n",
       "       [9.60367084e-01, 2.82849241e-02],\n",
       "       [9.81470168e-01, 1.59407482e-02],\n",
       "       [7.42999852e-01, 3.47151577e-01],\n",
       "       [9.99172509e-01, 1.44115373e-04],\n",
       "       [9.71313298e-01, 2.91241035e-02],\n",
       "       [8.30221534e-01, 1.44583523e-01],\n",
       "       [5.64433821e-03, 9.95213449e-01],\n",
       "       [6.96359277e-01, 2.25764289e-01],\n",
       "       [9.29861844e-01, 5.57207279e-02],\n",
       "       [9.67038989e-01, 1.27070379e-02],\n",
       "       [9.64752376e-01, 5.82045363e-03],\n",
       "       [9.02609110e-01, 1.30654514e-01],\n",
       "       [9.99881387e-01, 3.28798604e-04],\n",
       "       [9.10144687e-01, 2.81569473e-02],\n",
       "       [9.99210536e-01, 7.23152945e-04],\n",
       "       [2.03532502e-02, 9.82965231e-01],\n",
       "       [8.78866732e-01, 1.81790739e-01],\n",
       "       [9.45323765e-01, 7.32320026e-02],\n",
       "       [9.93398249e-01, 2.72509665e-03],\n",
       "       [9.34804142e-01, 1.11099593e-01],\n",
       "       [9.70591128e-01, 4.25201915e-02],\n",
       "       [4.83879775e-01, 4.79366690e-01],\n",
       "       [9.98091280e-01, 2.73334305e-03],\n",
       "       [4.13514763e-01, 6.63779259e-01],\n",
       "       [1.16965687e-03, 9.97652948e-01],\n",
       "       [9.90564883e-01, 9.21184570e-03],\n",
       "       [9.68191266e-01, 2.74568666e-02],\n",
       "       [9.79432166e-01, 8.22843239e-03],\n",
       "       [9.49522316e-01, 4.86160964e-02],\n",
       "       [3.51073533e-01, 5.43994486e-01],\n",
       "       [9.90325212e-01, 4.44058608e-03],\n",
       "       [9.97142494e-01, 6.96437573e-03],\n",
       "       [6.59773827e-01, 4.22195405e-01],\n",
       "       [5.26669443e-01, 6.05907381e-01],\n",
       "       [9.31083560e-01, 7.81855360e-02],\n",
       "       [9.84926105e-01, 1.24665555e-02],\n",
       "       [9.93314385e-01, 1.22753978e-02],\n",
       "       [6.68773234e-01, 4.83730167e-01],\n",
       "       [1.97867602e-01, 8.10488284e-01],\n",
       "       [9.53417480e-01, 1.57955438e-01],\n",
       "       [9.95389283e-01, 4.13767761e-03],\n",
       "       [9.79508936e-01, 2.88455822e-02],\n",
       "       [9.84898567e-01, 1.30720036e-02],\n",
       "       [7.29026720e-02, 9.22270000e-01],\n",
       "       [8.57639849e-01, 9.66380909e-02],\n",
       "       [9.85299826e-01, 6.27650134e-03],\n",
       "       [2.64258269e-04, 9.99907136e-01],\n",
       "       [9.94421959e-01, 3.40110413e-03],\n",
       "       [9.87114847e-01, 1.28368856e-02],\n",
       "       [9.97682512e-01, 6.40789513e-04],\n",
       "       [4.11166459e-01, 5.48016608e-01],\n",
       "       [6.59384727e-01, 2.48776600e-01],\n",
       "       [9.89912629e-01, 6.59374706e-03],\n",
       "       [3.30426276e-01, 5.81971228e-01],\n",
       "       [9.82854962e-01, 1.90746132e-02],\n",
       "       [8.79323423e-01, 5.77391610e-02],\n",
       "       [9.65197921e-01, 4.58294675e-02],\n",
       "       [5.37356324e-02, 9.81627464e-01],\n",
       "       [6.69484865e-03, 9.96320426e-01],\n",
       "       [2.16480315e-01, 7.54393935e-01],\n",
       "       [8.31318200e-01, 7.13796616e-02],\n",
       "       [9.09061968e-01, 7.11506605e-02],\n",
       "       [9.99250770e-01, 1.10475277e-03],\n",
       "       [9.99280512e-01, 5.04646159e-04],\n",
       "       [9.89238083e-01, 8.10265448e-03]], dtype=float32)"
      ]
     },
     "execution_count": 96,
     "metadata": {},
     "output_type": "execute_result"
    }
   ],
   "source": [
    "y_pred"
   ]
  },
  {
   "cell_type": "markdown",
   "metadata": {},
   "source": [
    "Untuk Mengembalikkan index hasil prediksi"
   ]
  },
  {
   "cell_type": "code",
   "execution_count": 97,
   "metadata": {},
   "outputs": [
    {
     "data": {
      "text/plain": [
       "[0, 0, 0, 0, 1, 0, 0, 0, 0, 0]"
      ]
     },
     "execution_count": 97,
     "metadata": {},
     "output_type": "execute_result"
    }
   ],
   "source": [
    "y_predict = np.argmax(y_pred, axis=1).tolist()\n",
    "y_predict[0:10]"
   ]
  },
  {
   "cell_type": "code",
   "execution_count": 98,
   "metadata": {},
   "outputs": [
    {
     "data": {
      "text/plain": [
       "[0, 1, 0, 1, 0, 0, 0, 0, 0, 0]"
      ]
     },
     "execution_count": 98,
     "metadata": {},
     "output_type": "execute_result"
    }
   ],
   "source": [
    "y_aktual = np.argmax(y_test, axis=1).tolist()\n",
    "y_aktual[0:10]"
   ]
  },
  {
   "cell_type": "markdown",
   "metadata": {},
   "source": [
    "Confusion matrixnya"
   ]
  },
  {
   "cell_type": "code",
   "execution_count": 99,
   "metadata": {},
   "outputs": [],
   "source": [
    "cm = confusion_matrix(y_predict, y_aktual)"
   ]
  },
  {
   "cell_type": "code",
   "execution_count": 100,
   "metadata": {},
   "outputs": [
    {
     "name": "stdout",
     "output_type": "stream",
     "text": [
      "[[58 11]\n",
      " [ 9  8]]\n"
     ]
    }
   ],
   "source": [
    "print(cm)"
   ]
  },
  {
   "cell_type": "code",
   "execution_count": 101,
   "metadata": {},
   "outputs": [
    {
     "data": {
      "image/png": "[encoded data removed]",
      "text/plain": [
       "<Figure size 640x480 with 2 Axes>"
      ]
     },
     "metadata": {},
     "output_type": "display_data"
    }
   ],
   "source": [
    "disp = ConfusionMatrixDisplay(confusion_matrix=cm)\n",
    "disp.plot()\n",
    "plt.show()"
   ]
  },
  {
   "cell_type": "markdown",
   "metadata": {},
   "source": [
    "#### Confusion Matrix\n",
    "- 9 false negative\n",
    "- 58 true positive\n",
    "- 8 true negative\n",
    "- 11 false positive"
   ]
  },
  {
   "cell_type": "code",
   "execution_count": 102,
   "metadata": {},
   "outputs": [],
   "source": [
    "from sklearn.metrics import classification_report"
   ]
  },
  {
   "cell_type": "code",
   "execution_count": 103,
   "metadata": {},
   "outputs": [
    {
     "name": "stdout",
     "output_type": "stream",
     "text": [
      "              precision    recall  f1-score   support\n",
      "\n",
      "           0       0.87      0.84      0.85        69\n",
      "           1       0.42      0.47      0.44        17\n",
      "\n",
      "    accuracy                           0.77        86\n",
      "   macro avg       0.64      0.66      0.65        86\n",
      "weighted avg       0.78      0.77      0.77        86\n",
      "\n"
     ]
    }
   ],
   "source": [
    "print(classification_report(y_predict, y_aktual))"
   ]
  },
  {
   "cell_type": "markdown",
   "metadata": {},
   "source": [
    "- Precision dari semua class yang diprediksi positive berapa jumlah yang benar benar positive hasilnya \n",
    "- Recall dari semua class yang positive berapa yang betul betul positive\n",
    "- f1-score nilai tengah rata rata dari precission dan recall "
   ]
  }
 ],
 "metadata": {
  "kernelspec": {
   "display_name": "Python 3.10.7 64-bit",
   "language": "python",
   "name": "python3"
  },
  "language_info": {
   "codemirror_mode": {
    "name": "ipython",
    "version": 3
   },
   "file_extension": ".py",
   "mimetype": "text/x-python",
   "name": "python",
   "nbconvert_exporter": "python",
   "pygments_lexer": "ipython3",
   "version": "3.10.7"
  },
  "orig_nbformat": 4,
  "vscode": {
   "interpreter": {
    "hash": "95cd850a289b5062fab79612406d21593bee7f5cddc2de882acb468a2c4a019d"
   }
  }
 },
 "nbformat": 4,
 "nbformat_minor": 2
}
